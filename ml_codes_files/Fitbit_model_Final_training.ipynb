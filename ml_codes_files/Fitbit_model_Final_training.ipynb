{
  "nbformat": 4,
  "nbformat_minor": 0,
  "metadata": {
    "colab": {
      "name": "Fitbit_model_Final_training.ipynb",
      "provenance": [],
      "collapsed_sections": []
    },
    "kernelspec": {
      "name": "python3",
      "display_name": "Python 3"
    },
    "language_info": {
      "name": "python"
    }
  },
  "cells": [
    {
      "cell_type": "code",
      "metadata": {
        "id": "9BRFY0wZ3WUG"
      },
      "source": [
        "import numpy as np\n",
        "import pandas as pd\n",
        "from sklearn.tree import DecisionTreeClassifier\n",
        "import numpy as np\n",
        "import pandas as pd\n",
        "import seaborn as sns\n",
        "from matplotlib import pyplot as plt\n",
        "from sklearn.model_selection import train_test_split\n",
        "from sklearn import metrics\n",
        "from sklearn.linear_model import LogisticRegression\n",
        "from sklearn.metrics import confusion_matrix, recall_score, precision_score, f1_score, roc_auc_score,accuracy_score\n",
        "from sklearn.metrics import precision_recall_fscore_support\n",
        "from sklearn.model_selection import GridSearchCV\n",
        "from sklearn.ensemble import BaggingClassifier\n",
        "from sklearn.tree import export_graphviz\n",
        "from sklearn.ensemble import AdaBoostClassifier\n",
        "from sklearn.ensemble import RandomForestClassifier\n",
        "from sklearn.linear_model import LogisticRegression\n",
        "from sklearn.neighbors import KNeighborsClassifier\n",
        "from sklearn.naive_bayes import GaussianNB\n",
        "from sklearn.naive_bayes import CategoricalNB\n",
        "from sklearn.model_selection import RandomizedSearchCV\n",
        "from sklearn.model_selection import cross_val_score\n",
        "from sklearn.model_selection import KFold"
      ],
      "execution_count": null,
      "outputs": []
    },
    {
      "cell_type": "code",
      "metadata": {
        "id": "xjskcUjD3gnj"
      },
      "source": [
        "health_df = pd.read_csv(\"/content/sample_data/data_final.csv\")"
      ],
      "execution_count": null,
      "outputs": []
    },
    {
      "cell_type": "code",
      "metadata": {
        "colab": {
          "base_uri": "https://localhost:8080/"
        },
        "id": "GExIctCv3kBD",
        "outputId": "9a7e527e-bb99-458e-cac7-abc1872c9534"
      },
      "source": [
        "pd.value_counts(health_df.HealthStatus)"
      ],
      "execution_count": null,
      "outputs": [
        {
          "output_type": "execute_result",
          "data": {
            "text/plain": [
              "8    15000\n",
              "7    15000\n",
              "6    15000\n",
              "5    15000\n",
              "4    15000\n",
              "3    15000\n",
              "2    15000\n",
              "1    15000\n",
              "Name: HealthStatus, dtype: int64"
            ]
          },
          "metadata": {
            "tags": []
          },
          "execution_count": 3
        }
      ]
    },
    {
      "cell_type": "code",
      "metadata": {
        "colab": {
          "base_uri": "https://localhost:8080/"
        },
        "id": "v1wvgggL3zu4",
        "outputId": "74f585a9-51ae-40b7-ce63-ff82b1bb411d"
      },
      "source": [
        "print(health_df.info())\n",
        "pd.set_option('display.max_columns', None)\n",
        "print(health_df.head(5))"
      ],
      "execution_count": null,
      "outputs": [
        {
          "output_type": "stream",
          "text": [
            "<class 'pandas.core.frame.DataFrame'>\n",
            "RangeIndex: 120000 entries, 0 to 119999\n",
            "Data columns (total 9 columns):\n",
            " #   Column        Non-Null Count   Dtype  \n",
            "---  ------        --------------   -----  \n",
            " 0   Age           120000 non-null  int64  \n",
            " 1   Calories      120000 non-null  float64\n",
            " 2   CaloriesMets  120000 non-null  float64\n",
            " 3   Steps         120000 non-null  int64  \n",
            " 4   Distance      120000 non-null  float64\n",
            " 5   Floors        120000 non-null  int64  \n",
            " 6   HeartRate     120000 non-null  int64  \n",
            " 7   SleepScore    120000 non-null  int64  \n",
            " 8   HealthStatus  120000 non-null  int64  \n",
            "dtypes: float64(3), int64(6)\n",
            "memory usage: 8.2 MB\n",
            "None\n",
            "   Age     Calories  CaloriesMets  Steps  Distance  Floors  HeartRate  \\\n",
            "0   22  3569.203875     16.331711  11629  5.550690      30         69   \n",
            "1   30  3379.615223      8.039367  12499  3.283475      36         67   \n",
            "2   29  3762.280082      5.129485  12412  5.663306      35         62   \n",
            "3   25  3030.589983      5.456242  12608  3.092049      37         67   \n",
            "4   26  3725.852601     12.486812  13064  7.378876      30         72   \n",
            "\n",
            "   SleepScore  HealthStatus  \n",
            "0         100             8  \n",
            "1          98             8  \n",
            "2          88             8  \n",
            "3          91             8  \n",
            "4          92             8  \n"
          ],
          "name": "stdout"
        }
      ]
    },
    {
      "cell_type": "code",
      "metadata": {
        "colab": {
          "base_uri": "https://localhost:8080/",
          "height": 324
        },
        "id": "CbiQnYQA32Sv",
        "outputId": "86058eaa-6cc4-42ea-dbe2-01e212c93722"
      },
      "source": [
        "health_df.describe().transpose()"
      ],
      "execution_count": null,
      "outputs": [
        {
          "output_type": "execute_result",
          "data": {
            "text/html": [
              "<div>\n",
              "<style scoped>\n",
              "    .dataframe tbody tr th:only-of-type {\n",
              "        vertical-align: middle;\n",
              "    }\n",
              "\n",
              "    .dataframe tbody tr th {\n",
              "        vertical-align: top;\n",
              "    }\n",
              "\n",
              "    .dataframe thead th {\n",
              "        text-align: right;\n",
              "    }\n",
              "</style>\n",
              "<table border=\"1\" class=\"dataframe\">\n",
              "  <thead>\n",
              "    <tr style=\"text-align: right;\">\n",
              "      <th></th>\n",
              "      <th>count</th>\n",
              "      <th>mean</th>\n",
              "      <th>std</th>\n",
              "      <th>min</th>\n",
              "      <th>25%</th>\n",
              "      <th>50%</th>\n",
              "      <th>75%</th>\n",
              "      <th>max</th>\n",
              "    </tr>\n",
              "  </thead>\n",
              "  <tbody>\n",
              "    <tr>\n",
              "      <th>Age</th>\n",
              "      <td>120000.0</td>\n",
              "      <td>34.988967</td>\n",
              "      <td>8.746980</td>\n",
              "      <td>20.000000</td>\n",
              "      <td>28.000000</td>\n",
              "      <td>35.000000</td>\n",
              "      <td>42.000000</td>\n",
              "      <td>50.000000</td>\n",
              "    </tr>\n",
              "    <tr>\n",
              "      <th>Calories</th>\n",
              "      <td>120000.0</td>\n",
              "      <td>2231.873764</td>\n",
              "      <td>703.288256</td>\n",
              "      <td>700.226867</td>\n",
              "      <td>1697.288503</td>\n",
              "      <td>2203.721267</td>\n",
              "      <td>2733.349328</td>\n",
              "      <td>3999.895000</td>\n",
              "    </tr>\n",
              "    <tr>\n",
              "      <th>CaloriesMets</th>\n",
              "      <td>120000.0</td>\n",
              "      <td>6.269884</td>\n",
              "      <td>4.847985</td>\n",
              "      <td>0.000000</td>\n",
              "      <td>1.986440</td>\n",
              "      <td>5.906746</td>\n",
              "      <td>9.695814</td>\n",
              "      <td>19.098300</td>\n",
              "    </tr>\n",
              "    <tr>\n",
              "      <th>Steps</th>\n",
              "      <td>120000.0</td>\n",
              "      <td>6002.346433</td>\n",
              "      <td>3035.320936</td>\n",
              "      <td>200.000000</td>\n",
              "      <td>3632.000000</td>\n",
              "      <td>5724.000000</td>\n",
              "      <td>8239.000000</td>\n",
              "      <td>13500.000000</td>\n",
              "    </tr>\n",
              "    <tr>\n",
              "      <th>Distance</th>\n",
              "      <td>120000.0</td>\n",
              "      <td>3.802007</td>\n",
              "      <td>3.221066</td>\n",
              "      <td>0.000000</td>\n",
              "      <td>0.683239</td>\n",
              "      <td>3.473490</td>\n",
              "      <td>6.020092</td>\n",
              "      <td>12.999421</td>\n",
              "    </tr>\n",
              "    <tr>\n",
              "      <th>Floors</th>\n",
              "      <td>120000.0</td>\n",
              "      <td>9.238842</td>\n",
              "      <td>9.044910</td>\n",
              "      <td>0.000000</td>\n",
              "      <td>2.000000</td>\n",
              "      <td>7.000000</td>\n",
              "      <td>13.000000</td>\n",
              "      <td>37.000000</td>\n",
              "    </tr>\n",
              "    <tr>\n",
              "      <th>HeartRate</th>\n",
              "      <td>120000.0</td>\n",
              "      <td>79.255675</td>\n",
              "      <td>13.905386</td>\n",
              "      <td>50.000000</td>\n",
              "      <td>69.000000</td>\n",
              "      <td>78.000000</td>\n",
              "      <td>90.000000</td>\n",
              "      <td>110.000000</td>\n",
              "    </tr>\n",
              "    <tr>\n",
              "      <th>SleepScore</th>\n",
              "      <td>120000.0</td>\n",
              "      <td>76.243892</td>\n",
              "      <td>11.035630</td>\n",
              "      <td>55.000000</td>\n",
              "      <td>68.000000</td>\n",
              "      <td>75.000000</td>\n",
              "      <td>85.000000</td>\n",
              "      <td>100.000000</td>\n",
              "    </tr>\n",
              "    <tr>\n",
              "      <th>HealthStatus</th>\n",
              "      <td>120000.0</td>\n",
              "      <td>4.500000</td>\n",
              "      <td>2.291297</td>\n",
              "      <td>1.000000</td>\n",
              "      <td>2.750000</td>\n",
              "      <td>4.500000</td>\n",
              "      <td>6.250000</td>\n",
              "      <td>8.000000</td>\n",
              "    </tr>\n",
              "  </tbody>\n",
              "</table>\n",
              "</div>"
            ],
            "text/plain": [
              "                 count         mean          std         min          25%  \\\n",
              "Age           120000.0    34.988967     8.746980   20.000000    28.000000   \n",
              "Calories      120000.0  2231.873764   703.288256  700.226867  1697.288503   \n",
              "CaloriesMets  120000.0     6.269884     4.847985    0.000000     1.986440   \n",
              "Steps         120000.0  6002.346433  3035.320936  200.000000  3632.000000   \n",
              "Distance      120000.0     3.802007     3.221066    0.000000     0.683239   \n",
              "Floors        120000.0     9.238842     9.044910    0.000000     2.000000   \n",
              "HeartRate     120000.0    79.255675    13.905386   50.000000    69.000000   \n",
              "SleepScore    120000.0    76.243892    11.035630   55.000000    68.000000   \n",
              "HealthStatus  120000.0     4.500000     2.291297    1.000000     2.750000   \n",
              "\n",
              "                      50%          75%           max  \n",
              "Age             35.000000    42.000000     50.000000  \n",
              "Calories      2203.721267  2733.349328   3999.895000  \n",
              "CaloriesMets     5.906746     9.695814     19.098300  \n",
              "Steps         5724.000000  8239.000000  13500.000000  \n",
              "Distance         3.473490     6.020092     12.999421  \n",
              "Floors           7.000000    13.000000     37.000000  \n",
              "HeartRate       78.000000    90.000000    110.000000  \n",
              "SleepScore      75.000000    85.000000    100.000000  \n",
              "HealthStatus     4.500000     6.250000      8.000000  "
            ]
          },
          "metadata": {
            "tags": []
          },
          "execution_count": 5
        }
      ]
    },
    {
      "cell_type": "code",
      "metadata": {
        "colab": {
          "base_uri": "https://localhost:8080/",
          "height": 665
        },
        "id": "e5BjjvDu33Ja",
        "outputId": "b7367797-d3fb-47a1-b90f-eb5005a4e786"
      },
      "source": [
        "plt.figure(figsize=(10,10))\n",
        "sns.set_context(\"poster\",font_scale=0.5)\n",
        "plot = sns.heatmap(health_df.corr(),annot=True,linewidths=.2,center=0,cbar=True,cmap=\"YlGnBu\")\n",
        "plot.figure.savefig(\"corr.png\")"
      ],
      "execution_count": null,
      "outputs": [
        {
          "output_type": "display_data",
          "data": {
            "image/png": "[encoded data removed]",
            "text/plain": [
              "<Figure size 720x720 with 2 Axes>"
            ]
          },
          "metadata": {
            "tags": [],
            "needs_background": "light"
          }
        }
      ]
    },
    {
      "cell_type": "code",
      "metadata": {
        "id": "tegxuQRr4Eis"
      },
      "source": [
        "corr_df = health_df.corr()"
      ],
      "execution_count": null,
      "outputs": []
    },
    {
      "cell_type": "code",
      "metadata": {
        "id": "ET7KrCbG4GLa",
        "colab": {
          "base_uri": "https://localhost:8080/",
          "height": 297
        },
        "outputId": "216c906b-eb2f-4462-c181-5413229b3d8b"
      },
      "source": [
        "corr_df[((corr_df > 0.3) & (corr_df < 1))| (corr_df < -0.3)].dropna(how='all')"
      ],
      "execution_count": null,
      "outputs": [
        {
          "output_type": "execute_result",
          "data": {
            "text/html": [
              "<div>\n",
              "<style scoped>\n",
              "    .dataframe tbody tr th:only-of-type {\n",
              "        vertical-align: middle;\n",
              "    }\n",
              "\n",
              "    .dataframe tbody tr th {\n",
              "        vertical-align: top;\n",
              "    }\n",
              "\n",
              "    .dataframe thead th {\n",
              "        text-align: right;\n",
              "    }\n",
              "</style>\n",
              "<table border=\"1\" class=\"dataframe\">\n",
              "  <thead>\n",
              "    <tr style=\"text-align: right;\">\n",
              "      <th></th>\n",
              "      <th>Age</th>\n",
              "      <th>Calories</th>\n",
              "      <th>CaloriesMets</th>\n",
              "      <th>Steps</th>\n",
              "      <th>Distance</th>\n",
              "      <th>Floors</th>\n",
              "      <th>HeartRate</th>\n",
              "      <th>SleepScore</th>\n",
              "      <th>HealthStatus</th>\n",
              "    </tr>\n",
              "  </thead>\n",
              "  <tbody>\n",
              "    <tr>\n",
              "      <th>Calories</th>\n",
              "      <td>NaN</td>\n",
              "      <td>NaN</td>\n",
              "      <td>0.591900</td>\n",
              "      <td>0.892413</td>\n",
              "      <td>0.547219</td>\n",
              "      <td>0.753691</td>\n",
              "      <td>-0.783631</td>\n",
              "      <td>0.757770</td>\n",
              "      <td>0.898093</td>\n",
              "    </tr>\n",
              "    <tr>\n",
              "      <th>CaloriesMets</th>\n",
              "      <td>NaN</td>\n",
              "      <td>0.591900</td>\n",
              "      <td>NaN</td>\n",
              "      <td>0.635816</td>\n",
              "      <td>0.403413</td>\n",
              "      <td>0.546730</td>\n",
              "      <td>-0.558462</td>\n",
              "      <td>0.567655</td>\n",
              "      <td>0.646494</td>\n",
              "    </tr>\n",
              "    <tr>\n",
              "      <th>Steps</th>\n",
              "      <td>NaN</td>\n",
              "      <td>0.892413</td>\n",
              "      <td>0.635816</td>\n",
              "      <td>NaN</td>\n",
              "      <td>0.591226</td>\n",
              "      <td>0.819352</td>\n",
              "      <td>-0.836810</td>\n",
              "      <td>0.810381</td>\n",
              "      <td>0.962857</td>\n",
              "    </tr>\n",
              "    <tr>\n",
              "      <th>Distance</th>\n",
              "      <td>NaN</td>\n",
              "      <td>0.547219</td>\n",
              "      <td>0.403413</td>\n",
              "      <td>0.591226</td>\n",
              "      <td>NaN</td>\n",
              "      <td>0.534910</td>\n",
              "      <td>-0.500348</td>\n",
              "      <td>0.520697</td>\n",
              "      <td>0.589196</td>\n",
              "    </tr>\n",
              "    <tr>\n",
              "      <th>Floors</th>\n",
              "      <td>NaN</td>\n",
              "      <td>0.753691</td>\n",
              "      <td>0.546730</td>\n",
              "      <td>0.819352</td>\n",
              "      <td>0.534910</td>\n",
              "      <td>NaN</td>\n",
              "      <td>-0.641162</td>\n",
              "      <td>0.728176</td>\n",
              "      <td>0.789088</td>\n",
              "    </tr>\n",
              "    <tr>\n",
              "      <th>HeartRate</th>\n",
              "      <td>NaN</td>\n",
              "      <td>-0.783631</td>\n",
              "      <td>-0.558462</td>\n",
              "      <td>-0.836810</td>\n",
              "      <td>-0.500348</td>\n",
              "      <td>-0.641162</td>\n",
              "      <td>NaN</td>\n",
              "      <td>-0.685096</td>\n",
              "      <td>-0.880775</td>\n",
              "    </tr>\n",
              "    <tr>\n",
              "      <th>SleepScore</th>\n",
              "      <td>NaN</td>\n",
              "      <td>0.757770</td>\n",
              "      <td>0.567655</td>\n",
              "      <td>0.810381</td>\n",
              "      <td>0.520697</td>\n",
              "      <td>0.728176</td>\n",
              "      <td>-0.685096</td>\n",
              "      <td>NaN</td>\n",
              "      <td>0.815371</td>\n",
              "    </tr>\n",
              "    <tr>\n",
              "      <th>HealthStatus</th>\n",
              "      <td>NaN</td>\n",
              "      <td>0.898093</td>\n",
              "      <td>0.646494</td>\n",
              "      <td>0.962857</td>\n",
              "      <td>0.589196</td>\n",
              "      <td>0.789088</td>\n",
              "      <td>-0.880775</td>\n",
              "      <td>0.815371</td>\n",
              "      <td>NaN</td>\n",
              "    </tr>\n",
              "  </tbody>\n",
              "</table>\n",
              "</div>"
            ],
            "text/plain": [
              "              Age  Calories  CaloriesMets     Steps  Distance    Floors  \\\n",
              "Calories      NaN       NaN      0.591900  0.892413  0.547219  0.753691   \n",
              "CaloriesMets  NaN  0.591900           NaN  0.635816  0.403413  0.546730   \n",
              "Steps         NaN  0.892413      0.635816       NaN  0.591226  0.819352   \n",
              "Distance      NaN  0.547219      0.403413  0.591226       NaN  0.534910   \n",
              "Floors        NaN  0.753691      0.546730  0.819352  0.534910       NaN   \n",
              "HeartRate     NaN -0.783631     -0.558462 -0.836810 -0.500348 -0.641162   \n",
              "SleepScore    NaN  0.757770      0.567655  0.810381  0.520697  0.728176   \n",
              "HealthStatus  NaN  0.898093      0.646494  0.962857  0.589196  0.789088   \n",
              "\n",
              "              HeartRate  SleepScore  HealthStatus  \n",
              "Calories      -0.783631    0.757770      0.898093  \n",
              "CaloriesMets  -0.558462    0.567655      0.646494  \n",
              "Steps         -0.836810    0.810381      0.962857  \n",
              "Distance      -0.500348    0.520697      0.589196  \n",
              "Floors        -0.641162    0.728176      0.789088  \n",
              "HeartRate           NaN   -0.685096     -0.880775  \n",
              "SleepScore    -0.685096         NaN      0.815371  \n",
              "HealthStatus  -0.880775    0.815371           NaN  "
            ]
          },
          "metadata": {
            "tags": []
          },
          "execution_count": 9
        }
      ]
    },
    {
      "cell_type": "code",
      "metadata": {
        "colab": {
          "base_uri": "https://localhost:8080/"
        },
        "id": "2BS9DzJe4JGk",
        "outputId": "16e6abb7-7f65-468a-c8c7-e55702962d48"
      },
      "source": [
        "X_train, X_test, y_train, y_test =train_test_split(health_df.drop(['HealthStatus'],axis=1), health_df['HealthStatus'], test_size=.25,\n",
        "                                                   random_state=22)\n",
        "X_train.shape,X_test.shape"
      ],
      "execution_count": null,
      "outputs": [
        {
          "output_type": "execute_result",
          "data": {
            "text/plain": [
              "((90000, 8), (30000, 8))"
            ]
          },
          "metadata": {
            "tags": []
          },
          "execution_count": 10
        }
      ]
    },
    {
      "cell_type": "code",
      "metadata": {
        "id": "3DjQVEnA4LSs"
      },
      "source": [
        "dtc = DecisionTreeClassifier()"
      ],
      "execution_count": null,
      "outputs": []
    },
    {
      "cell_type": "code",
      "metadata": {
        "colab": {
          "base_uri": "https://localhost:8080/"
        },
        "id": "_wskN4X-4M0s",
        "outputId": "3efb1e43-2664-432c-d1b0-8f6bda52c2fc"
      },
      "source": [
        "dtc.fit(X_train,y_train)"
      ],
      "execution_count": null,
      "outputs": [
        {
          "output_type": "execute_result",
          "data": {
            "text/plain": [
              "DecisionTreeClassifier(ccp_alpha=0.0, class_weight=None, criterion='gini',\n",
              "                       max_depth=None, max_features=None, max_leaf_nodes=None,\n",
              "                       min_impurity_decrease=0.0, min_impurity_split=None,\n",
              "                       min_samples_leaf=1, min_samples_split=2,\n",
              "                       min_weight_fraction_leaf=0.0, presort='deprecated',\n",
              "                       random_state=None, splitter='best')"
            ]
          },
          "metadata": {
            "tags": []
          },
          "execution_count": 12
        }
      ]
    },
    {
      "cell_type": "code",
      "metadata": {
        "colab": {
          "base_uri": "https://localhost:8080/"
        },
        "id": "AO-WvL9I4ODy",
        "outputId": "2b11e122-1526-47c4-d7f8-eccc3382c466"
      },
      "source": [
        "dtc_acc_train = dtc.score(X_train,y_train)\n",
        "print(\"Decision Tree Training accuracy\",dtc_acc_train)  \n",
        "\n",
        "dtc_acc_test = dtc.score(X_test, y_test)\n",
        "print(\"Decision Tree  Testing accuracy\",dtc_acc_test)"
      ],
      "execution_count": null,
      "outputs": [
        {
          "output_type": "stream",
          "text": [
            "Decision Tree Training accuracy 1.0\n",
            "Decision Tree  Testing accuracy 0.8928\n"
          ],
          "name": "stdout"
        }
      ]
    },
    {
      "cell_type": "code",
      "metadata": {
        "id": "WF7GG1MO4Qt1"
      },
      "source": [
        ""
      ],
      "execution_count": null,
      "outputs": []
    },
    {
      "cell_type": "code",
      "metadata": {
        "id": "kGjpsXO14eau"
      },
      "source": [
        ""
      ],
      "execution_count": null,
      "outputs": []
    },
    {
      "cell_type": "code",
      "metadata": {
        "id": "8Whp-vEF4eRz"
      },
      "source": [
        "rfc = RandomForestClassifier()"
      ],
      "execution_count": null,
      "outputs": []
    },
    {
      "cell_type": "code",
      "metadata": {
        "id": "Cn_s-6MH4fQC"
      },
      "source": [
        "rfc.fit(X_train,y_train)"
      ],
      "execution_count": null,
      "outputs": []
    },
    {
      "cell_type": "code",
      "metadata": {
        "id": "dblRaBlq4g_y"
      },
      "source": [
        "rfc_acc_train = rfc.score(X_train,y_train)\n",
        "print(\"Random Forest Training accuracy\",rfc_acc_train)"
      ],
      "execution_count": null,
      "outputs": []
    },
    {
      "cell_type": "code",
      "metadata": {
        "id": "P3Gdlj3s4khX"
      },
      "source": [
        "rfc_pred = rfc.predict(X_test)"
      ],
      "execution_count": null,
      "outputs": []
    },
    {
      "cell_type": "code",
      "metadata": {
        "colab": {
          "base_uri": "https://localhost:8080/"
        },
        "id": "1WYScxWD4nAN",
        "outputId": "0ac0f7be-a990-494d-a6e8-f54297dcfdbb"
      },
      "source": [
        "from sklearn import metrics\n",
        "mae_rfc = (metrics.mean_absolute_error(y_test, rfc_pred))\n",
        "mse_rfc = (metrics.mean_squared_error(y_test, rfc_pred))\n",
        "\n",
        "print(\"Mean Absolute Error : \",mae_rfc)\n",
        "print(\"Mean Sqaured Error : \",mse_rfc)"
      ],
      "execution_count": null,
      "outputs": [
        {
          "output_type": "stream",
          "text": [
            "Mean Absolute Error :  0.09863333333333334\n",
            "Mean Sqaured Error :  0.09876666666666667\n"
          ],
          "name": "stdout"
        }
      ]
    },
    {
      "cell_type": "code",
      "metadata": {
        "colab": {
          "base_uri": "https://localhost:8080/"
        },
        "id": "HQ4JnFKz4wWr",
        "outputId": "142c997a-a68e-40dd-ffda-cdfa7fae9af1"
      },
      "source": [
        "import numpy as np\n",
        "\n",
        "def mean_absolute_percentage_error(y_test, rfc_pred): \n",
        "    y_test, y_pred = np.array(y_test), np.array(rfc_pred)\n",
        "    return np.mean(np.abs((y_test - rfc_pred) / y_test)) * 100\n",
        "\n",
        "mean_absolute_percentage_error(y_test,rfc_pred)"
      ],
      "execution_count": null,
      "outputs": [
        {
          "output_type": "execute_result",
          "data": {
            "text/plain": [
              "3.6281190476190472"
            ]
          },
          "metadata": {
            "tags": []
          },
          "execution_count": 19
        }
      ]
    },
    {
      "cell_type": "code",
      "metadata": {
        "colab": {
          "base_uri": "https://localhost:8080/"
        },
        "id": "M9x1bH-z40H3",
        "outputId": "9eac93bb-aef6-4e94-96b2-8a597c022c20"
      },
      "source": [
        "rfc_pred_score = (rfc.score(X_test,y_test))\n",
        "rfc_pred_score"
      ],
      "execution_count": null,
      "outputs": [
        {
          "output_type": "execute_result",
          "data": {
            "text/plain": [
              "0.9014333333333333"
            ]
          },
          "metadata": {
            "tags": []
          },
          "execution_count": 20
        }
      ]
    },
    {
      "cell_type": "code",
      "metadata": {
        "colab": {
          "base_uri": "https://localhost:8080/"
        },
        "id": "g93T3OZh42Oe",
        "outputId": "67ec9696-6c94-47e5-ce44-00832b6a99af"
      },
      "source": [
        "import sklearn.metrics as skm\n",
        "cm = skm.multilabel_confusion_matrix(y_test,rfc_pred)\n",
        "print(cm)\n",
        "print(skm.classification_report(y_test,rfc_pred))\n",
        "# TP FP \n",
        "# FN TN"
      ],
      "execution_count": null,
      "outputs": [
        {
          "output_type": "stream",
          "text": [
            "[[[25856   405]\n",
            "  [  274  3465]]\n",
            "\n",
            " [[25672   543]\n",
            "  [  581  3204]]\n",
            "\n",
            " [[25486   713]\n",
            "  [  626  3175]]\n",
            "\n",
            " [[25652   533]\n",
            "  [  731  3084]]\n",
            "\n",
            " [[25923   392]\n",
            "  [  345  3340]]\n",
            "\n",
            " [[26060   260]\n",
            "  [  266  3414]]\n",
            "\n",
            " [[26164    90]\n",
            "  [  114  3632]]\n",
            "\n",
            " [[26230    21]\n",
            "  [   20  3729]]]\n",
            "              precision    recall  f1-score   support\n",
            "\n",
            "           1       0.90      0.93      0.91      3739\n",
            "           2       0.86      0.85      0.85      3785\n",
            "           3       0.82      0.84      0.83      3801\n",
            "           4       0.85      0.81      0.83      3815\n",
            "           5       0.89      0.91      0.90      3685\n",
            "           6       0.93      0.93      0.93      3680\n",
            "           7       0.98      0.97      0.97      3746\n",
            "           8       0.99      0.99      0.99      3749\n",
            "\n",
            "    accuracy                           0.90     30000\n",
            "   macro avg       0.90      0.90      0.90     30000\n",
            "weighted avg       0.90      0.90      0.90     30000\n",
            "\n"
          ],
          "name": "stdout"
        }
      ]
    },
    {
      "cell_type": "code",
      "metadata": {
        "colab": {
          "base_uri": "https://localhost:8080/"
        },
        "id": "uvqnyJtU4396",
        "outputId": "2e202f54-a158-4225-ed1b-9f76a98d060f"
      },
      "source": [
        "import joblib\n",
        "filename = 'finalized_model_rfc.sav'\n",
        "joblib.dump(rfc, filename)"
      ],
      "execution_count": null,
      "outputs": [
        {
          "output_type": "execute_result",
          "data": {
            "text/plain": [
              "['finalized_model_rfc.sav']"
            ]
          },
          "metadata": {
            "tags": []
          },
          "execution_count": 22
        }
      ]
    },
    {
      "cell_type": "code",
      "metadata": {
        "id": "21xSRQRj5smt"
      },
      "source": [
        "model = joblib.load(\"/content/sample_data/finalized_model.sav\")\n",
        "\n",
        "result_test = model.predict(X_test)"
      ],
      "execution_count": null,
      "outputs": []
    }
  ]
}