{
 "cells": [
  {
   "cell_type": "markdown",
   "id": "984f8e46",
   "metadata": {},
   "source": [
    "# 1. Import and Install All necessary libraries for health score calculation"
   ]
  },
  {
   "cell_type": "code",
   "execution_count": 107,
   "id": "e681f698",
   "metadata": {},
   "outputs": [
    {
     "name": "stdout",
     "output_type": "stream",
     "text": [
      "Requirement already satisfied: papermill[all] in /home/ec2-user/anaconda3/envs/python3/lib/python3.6/site-packages (2.3.3)\n",
      "Requirement already satisfied: requests in /home/ec2-user/anaconda3/envs/python3/lib/python3.6/site-packages (from papermill[all]) (2.25.1)\n",
      "Requirement already satisfied: pyyaml in /home/ec2-user/anaconda3/envs/python3/lib/python3.6/site-packages (from papermill[all]) (5.4.1)\n",
      "Requirement already satisfied: tqdm>=4.32.2 in /home/ec2-user/anaconda3/envs/python3/lib/python3.6/site-packages (from papermill[all]) (4.61.2)\n",
      "Requirement already satisfied: nbformat>=5.1.2 in /home/ec2-user/anaconda3/envs/python3/lib/python3.6/site-packages (from papermill[all]) (5.1.2)\n",
      "Requirement already satisfied: tenacity in /home/ec2-user/anaconda3/envs/python3/lib/python3.6/site-packages (from papermill[all]) (8.0.1)\n",
      "Requirement already satisfied: black in /home/ec2-user/anaconda3/envs/python3/lib/python3.6/site-packages (from papermill[all]) (20.8b1)\n",
      "Requirement already satisfied: nbclient>=0.2.0 in /home/ec2-user/anaconda3/envs/python3/lib/python3.6/site-packages (from papermill[all]) (0.5.2)\n",
      "Requirement already satisfied: ansiwrap in /home/ec2-user/anaconda3/envs/python3/lib/python3.6/site-packages (from papermill[all]) (0.8.4)\n",
      "Requirement already satisfied: entrypoints in /home/ec2-user/anaconda3/envs/python3/lib/python3.6/site-packages (from papermill[all]) (0.3)\n",
      "Requirement already satisfied: click in /home/ec2-user/anaconda3/envs/python3/lib/python3.6/site-packages (from papermill[all]) (7.1.2)\n",
      "Requirement already satisfied: gcsfs>=0.2.0 in /home/ec2-user/anaconda3/envs/python3/lib/python3.6/site-packages (from papermill[all]) (2021.7.0)\n",
      "Requirement already satisfied: boto3 in /home/ec2-user/anaconda3/envs/python3/lib/python3.6/site-packages (from papermill[all]) (1.17.99)\n",
      "Requirement already satisfied: azure-datalake-store>=0.0.30 in /home/ec2-user/anaconda3/envs/python3/lib/python3.6/site-packages (from papermill[all]) (0.0.52)\n",
      "Requirement already satisfied: pyarrow in /home/ec2-user/anaconda3/envs/python3/lib/python3.6/site-packages (from papermill[all]) (4.0.1)\n",
      "Requirement already satisfied: azure-storage-blob>=12.1.0 in /home/ec2-user/anaconda3/envs/python3/lib/python3.6/site-packages (from papermill[all]) (12.8.1)\n",
      "Requirement already satisfied: cffi in /home/ec2-user/anaconda3/envs/python3/lib/python3.6/site-packages (from azure-datalake-store>=0.0.30->papermill[all]) (1.14.5)\n",
      "Requirement already satisfied: adal>=0.4.2 in /home/ec2-user/anaconda3/envs/python3/lib/python3.6/site-packages (from azure-datalake-store>=0.0.30->papermill[all]) (1.2.7)\n",
      "Requirement already satisfied: cryptography>=1.1.0 in /home/ec2-user/anaconda3/envs/python3/lib/python3.6/site-packages (from adal>=0.4.2->azure-datalake-store>=0.0.30->papermill[all]) (3.4.4)\n",
      "Requirement already satisfied: PyJWT<3,>=1.0.0 in /home/ec2-user/anaconda3/envs/python3/lib/python3.6/site-packages (from adal>=0.4.2->azure-datalake-store>=0.0.30->papermill[all]) (2.1.0)\n",
      "Requirement already satisfied: python-dateutil<3,>=2.1.0 in /home/ec2-user/anaconda3/envs/python3/lib/python3.6/site-packages (from adal>=0.4.2->azure-datalake-store>=0.0.30->papermill[all]) (2.8.1)\n",
      "Requirement already satisfied: azure-core<2.0.0,>=1.10.0 in /home/ec2-user/anaconda3/envs/python3/lib/python3.6/site-packages (from azure-storage-blob>=12.1.0->papermill[all]) (1.16.0)\n",
      "Requirement already satisfied: msrest>=0.6.18 in /home/ec2-user/anaconda3/envs/python3/lib/python3.6/site-packages (from azure-storage-blob>=12.1.0->papermill[all]) (0.6.21)\n",
      "Requirement already satisfied: six>=1.11.0 in /home/ec2-user/anaconda3/envs/python3/lib/python3.6/site-packages (from azure-core<2.0.0,>=1.10.0->azure-storage-blob>=12.1.0->papermill[all]) (1.15.0)\n",
      "Requirement already satisfied: pycparser in /home/ec2-user/anaconda3/envs/python3/lib/python3.6/site-packages (from cffi->azure-datalake-store>=0.0.30->papermill[all]) (2.20)\n",
      "Requirement already satisfied: google-auth-oauthlib in /home/ec2-user/anaconda3/envs/python3/lib/python3.6/site-packages (from gcsfs>=0.2.0->papermill[all]) (0.4.4)\n",
      "Requirement already satisfied: aiohttp in /home/ec2-user/anaconda3/envs/python3/lib/python3.6/site-packages (from gcsfs>=0.2.0->papermill[all]) (3.7.4.post0)\n",
      "Requirement already satisfied: google-auth>=1.2 in /home/ec2-user/anaconda3/envs/python3/lib/python3.6/site-packages (from gcsfs>=0.2.0->papermill[all]) (1.33.1)\n",
      "Requirement already satisfied: decorator in /home/ec2-user/anaconda3/envs/python3/lib/python3.6/site-packages (from gcsfs>=0.2.0->papermill[all]) (4.4.2)\n",
      "Requirement already satisfied: fsspec==2021.07.0 in /home/ec2-user/anaconda3/envs/python3/lib/python3.6/site-packages (from gcsfs>=0.2.0->papermill[all]) (2021.7.0)\n",
      "Requirement already satisfied: cachetools<5.0,>=2.0.0 in /home/ec2-user/anaconda3/envs/python3/lib/python3.6/site-packages (from google-auth>=1.2->gcsfs>=0.2.0->papermill[all]) (4.2.2)\n",
      "Requirement already satisfied: setuptools>=40.3.0 in /home/ec2-user/anaconda3/envs/python3/lib/python3.6/site-packages (from google-auth>=1.2->gcsfs>=0.2.0->papermill[all]) (49.6.0.post20210108)\n",
      "Requirement already satisfied: pyasn1-modules>=0.2.1 in /home/ec2-user/anaconda3/envs/python3/lib/python3.6/site-packages (from google-auth>=1.2->gcsfs>=0.2.0->papermill[all]) (0.2.8)\n",
      "Requirement already satisfied: rsa<5,>=3.1.4 in /home/ec2-user/anaconda3/envs/python3/lib/python3.6/site-packages (from google-auth>=1.2->gcsfs>=0.2.0->papermill[all]) (4.7.2)\n",
      "Requirement already satisfied: certifi>=2017.4.17 in /home/ec2-user/anaconda3/envs/python3/lib/python3.6/site-packages (from msrest>=0.6.18->azure-storage-blob>=12.1.0->papermill[all]) (2021.5.30)\n",
      "Requirement already satisfied: isodate>=0.6.0 in /home/ec2-user/anaconda3/envs/python3/lib/python3.6/site-packages (from msrest>=0.6.18->azure-storage-blob>=12.1.0->papermill[all]) (0.6.0)\n",
      "Requirement already satisfied: requests-oauthlib>=0.5.0 in /home/ec2-user/anaconda3/envs/python3/lib/python3.6/site-packages (from msrest>=0.6.18->azure-storage-blob>=12.1.0->papermill[all]) (1.3.0)\n",
      "Requirement already satisfied: traitlets>=4.2 in /home/ec2-user/anaconda3/envs/python3/lib/python3.6/site-packages (from nbclient>=0.2.0->papermill[all]) (4.3.3)\n",
      "Requirement already satisfied: nest-asyncio in /home/ec2-user/anaconda3/envs/python3/lib/python3.6/site-packages (from nbclient>=0.2.0->papermill[all]) (1.4.3)\n",
      "Requirement already satisfied: async-generator in /home/ec2-user/anaconda3/envs/python3/lib/python3.6/site-packages (from nbclient>=0.2.0->papermill[all]) (1.10)\n",
      "Requirement already satisfied: jupyter-client>=6.1.5 in /home/ec2-user/anaconda3/envs/python3/lib/python3.6/site-packages (from nbclient>=0.2.0->papermill[all]) (6.1.11)\n",
      "Requirement already satisfied: tornado>=4.1 in /home/ec2-user/anaconda3/envs/python3/lib/python3.6/site-packages (from jupyter-client>=6.1.5->nbclient>=0.2.0->papermill[all]) (6.1)\n",
      "Requirement already satisfied: jupyter-core>=4.6.0 in /home/ec2-user/anaconda3/envs/python3/lib/python3.6/site-packages (from jupyter-client>=6.1.5->nbclient>=0.2.0->papermill[all]) (4.7.1)\n",
      "Requirement already satisfied: pyzmq>=13 in /home/ec2-user/anaconda3/envs/python3/lib/python3.6/site-packages (from jupyter-client>=6.1.5->nbclient>=0.2.0->papermill[all]) (22.0.3)\n",
      "Requirement already satisfied: jsonschema!=2.5.0,>=2.4 in /home/ec2-user/anaconda3/envs/python3/lib/python3.6/site-packages (from nbformat>=5.1.2->papermill[all]) (3.2.0)\n",
      "Requirement already satisfied: ipython-genutils in /home/ec2-user/anaconda3/envs/python3/lib/python3.6/site-packages (from nbformat>=5.1.2->papermill[all]) (0.2.0)\n",
      "Requirement already satisfied: pyrsistent>=0.14.0 in /home/ec2-user/anaconda3/envs/python3/lib/python3.6/site-packages (from jsonschema!=2.5.0,>=2.4->nbformat>=5.1.2->papermill[all]) (0.17.3)\n",
      "Requirement already satisfied: attrs>=17.4.0 in /home/ec2-user/anaconda3/envs/python3/lib/python3.6/site-packages (from jsonschema!=2.5.0,>=2.4->nbformat>=5.1.2->papermill[all]) (20.3.0)\n",
      "Requirement already satisfied: importlib-metadata in /home/ec2-user/anaconda3/envs/python3/lib/python3.6/site-packages (from jsonschema!=2.5.0,>=2.4->nbformat>=5.1.2->papermill[all]) (3.7.0)\n",
      "Requirement already satisfied: pyasn1<0.5.0,>=0.4.6 in /home/ec2-user/anaconda3/envs/python3/lib/python3.6/site-packages (from pyasn1-modules>=0.2.1->google-auth>=1.2->gcsfs>=0.2.0->papermill[all]) (0.4.8)\n",
      "Requirement already satisfied: chardet<5,>=3.0.2 in /home/ec2-user/anaconda3/envs/python3/lib/python3.6/site-packages (from requests->papermill[all]) (3.0.4)\n",
      "Requirement already satisfied: urllib3<1.27,>=1.21.1 in /home/ec2-user/anaconda3/envs/python3/lib/python3.6/site-packages (from requests->papermill[all]) (1.26.5)\n",
      "Requirement already satisfied: idna<3,>=2.5 in /home/ec2-user/anaconda3/envs/python3/lib/python3.6/site-packages (from requests->papermill[all]) (2.10)\n",
      "Requirement already satisfied: oauthlib>=3.0.0 in /home/ec2-user/anaconda3/envs/python3/lib/python3.6/site-packages (from requests-oauthlib>=0.5.0->msrest>=0.6.18->azure-storage-blob>=12.1.0->papermill[all]) (3.1.1)\n",
      "Requirement already satisfied: idna-ssl>=1.0 in /home/ec2-user/anaconda3/envs/python3/lib/python3.6/site-packages (from aiohttp->gcsfs>=0.2.0->papermill[all]) (1.1.0)\n",
      "Requirement already satisfied: multidict<7.0,>=4.5 in /home/ec2-user/anaconda3/envs/python3/lib/python3.6/site-packages (from aiohttp->gcsfs>=0.2.0->papermill[all]) (5.1.0)\n",
      "Requirement already satisfied: typing-extensions>=3.6.5 in /home/ec2-user/anaconda3/envs/python3/lib/python3.6/site-packages (from aiohttp->gcsfs>=0.2.0->papermill[all]) (3.7.4.3)\n",
      "Requirement already satisfied: async-timeout<4.0,>=3.0 in /home/ec2-user/anaconda3/envs/python3/lib/python3.6/site-packages (from aiohttp->gcsfs>=0.2.0->papermill[all]) (3.0.1)\n",
      "Requirement already satisfied: yarl<2.0,>=1.0 in /home/ec2-user/anaconda3/envs/python3/lib/python3.6/site-packages (from aiohttp->gcsfs>=0.2.0->papermill[all]) (1.6.3)\n",
      "Requirement already satisfied: textwrap3>=0.9.2 in /home/ec2-user/anaconda3/envs/python3/lib/python3.6/site-packages (from ansiwrap->papermill[all]) (0.9.2)\n",
      "Requirement already satisfied: appdirs in /home/ec2-user/anaconda3/envs/python3/lib/python3.6/site-packages (from black->papermill[all]) (1.4.4)\n",
      "Requirement already satisfied: regex>=2020.1.8 in /home/ec2-user/anaconda3/envs/python3/lib/python3.6/site-packages (from black->papermill[all]) (2020.11.13)\n",
      "Requirement already satisfied: dataclasses>=0.6 in /home/ec2-user/anaconda3/envs/python3/lib/python3.6/site-packages (from black->papermill[all]) (0.8)\n",
      "Requirement already satisfied: typed-ast>=1.4.0 in /home/ec2-user/anaconda3/envs/python3/lib/python3.6/site-packages (from black->papermill[all]) (1.4.2)\n",
      "Requirement already satisfied: toml>=0.10.1 in /home/ec2-user/anaconda3/envs/python3/lib/python3.6/site-packages (from black->papermill[all]) (0.10.2)\n",
      "Requirement already satisfied: pathspec<1,>=0.6 in /home/ec2-user/anaconda3/envs/python3/lib/python3.6/site-packages (from black->papermill[all]) (0.8.1)\n",
      "Requirement already satisfied: mypy-extensions>=0.4.3 in /home/ec2-user/anaconda3/envs/python3/lib/python3.6/site-packages (from black->papermill[all]) (0.4.3)\n",
      "Requirement already satisfied: s3transfer<0.5.0,>=0.4.0 in /home/ec2-user/anaconda3/envs/python3/lib/python3.6/site-packages (from boto3->papermill[all]) (0.4.2)\n",
      "Requirement already satisfied: jmespath<1.0.0,>=0.7.1 in /home/ec2-user/anaconda3/envs/python3/lib/python3.6/site-packages (from boto3->papermill[all]) (0.10.0)\n",
      "Requirement already satisfied: botocore<1.21.0,>=1.20.99 in /home/ec2-user/anaconda3/envs/python3/lib/python3.6/site-packages (from boto3->papermill[all]) (1.20.99)\n",
      "Requirement already satisfied: zipp>=0.5 in /home/ec2-user/anaconda3/envs/python3/lib/python3.6/site-packages (from importlib-metadata->jsonschema!=2.5.0,>=2.4->nbformat>=5.1.2->papermill[all]) (3.4.0)\n",
      "Requirement already satisfied: numpy>=1.16.6 in /home/ec2-user/anaconda3/envs/python3/lib/python3.6/site-packages (from pyarrow->papermill[all]) (1.19.5)\n",
      "\u001b[33mWARNING: You are using pip version 21.1.2; however, version 21.1.3 is available.\n",
      "You should consider upgrading via the '/home/ec2-user/anaconda3/envs/python3/bin/python -m pip install --upgrade pip' command.\u001b[0m\n",
      "Note: you may need to restart the kernel to use updated packages.\n"
     ]
    }
   ],
   "source": [
    "pip install papermill[all]"
   ]
  },
  {
   "cell_type": "code",
   "execution_count": 108,
   "id": "855189bd",
   "metadata": {},
   "outputs": [
    {
     "name": "stdout",
     "output_type": "stream",
     "text": [
      "Requirement already satisfied: pickle5 in /home/ec2-user/anaconda3/envs/python3/lib/python3.6/site-packages (0.0.11)\n",
      "\u001b[33mWARNING: You are using pip version 21.1.2; however, version 21.1.3 is available.\n",
      "You should consider upgrading via the '/home/ec2-user/anaconda3/envs/python3/bin/python -m pip install --upgrade pip' command.\u001b[0m\n"
     ]
    }
   ],
   "source": [
    "!pip install pickle5"
   ]
  },
  {
   "cell_type": "code",
   "execution_count": 109,
   "id": "2e80d589",
   "metadata": {},
   "outputs": [
    {
     "name": "stdout",
     "output_type": "stream",
     "text": [
      "Requirement already satisfied: scikit-learn==0.22.2.post1 in /home/ec2-user/anaconda3/envs/python3/lib/python3.6/site-packages (0.22.2.post1)\n",
      "Requirement already satisfied: scipy>=0.17.0 in /home/ec2-user/anaconda3/envs/python3/lib/python3.6/site-packages (from scikit-learn==0.22.2.post1) (1.5.3)\n",
      "Requirement already satisfied: numpy>=1.11.0 in /home/ec2-user/anaconda3/envs/python3/lib/python3.6/site-packages (from scikit-learn==0.22.2.post1) (1.19.5)\n",
      "Requirement already satisfied: joblib>=0.11 in /home/ec2-user/anaconda3/envs/python3/lib/python3.6/site-packages (from scikit-learn==0.22.2.post1) (1.0.1)\n",
      "\u001b[33mWARNING: You are using pip version 21.1.2; however, version 21.1.3 is available.\n",
      "You should consider upgrading via the '/home/ec2-user/anaconda3/envs/python3/bin/python -m pip install --upgrade pip' command.\u001b[0m\n",
      "Note: you may need to restart the kernel to use updated packages.\n"
     ]
    }
   ],
   "source": [
    "pip install scikit-learn==0.22.2.post1"
   ]
  },
  {
   "cell_type": "code",
   "execution_count": 110,
   "id": "d933ac7b",
   "metadata": {},
   "outputs": [],
   "source": [
    "import boto3, re, sys, math, json, os, sagemaker, urllib.request, tempfile, joblib\n",
    "from sagemaker import get_execution_role\n",
    "import numpy as np\n",
    "import pandas as pd\n",
    "import random\n",
    "import matplotlib.pyplot as plt\n",
    "from IPython.display import Image\n",
    "from IPython.display import display\n",
    "from time import gmtime, strftime\n",
    "from sagemaker.predictor import csv_serializer\n",
    "from sklearn.tree import DecisionTreeClassifier\n",
    "import seaborn as sns\n",
    "from matplotlib import pyplot as plt\n",
    "from sklearn.model_selection import train_test_split\n",
    "from sklearn import metrics\n",
    "from sklearn.linear_model import LogisticRegression\n",
    "from sklearn.metrics import confusion_matrix, recall_score, precision_score, f1_score, roc_auc_score,accuracy_score\n",
    "from sklearn.metrics import precision_recall_fscore_support\n",
    "from sklearn.model_selection import GridSearchCV\n",
    "from sklearn.ensemble import BaggingClassifier\n",
    "from sklearn.tree import export_graphviz\n",
    "from sklearn.ensemble import AdaBoostClassifier\n",
    "from sklearn.ensemble import RandomForestClassifier\n",
    "from sklearn.linear_model import LogisticRegression\n",
    "from sklearn.neighbors import KNeighborsClassifier\n",
    "from sklearn.naive_bayes import GaussianNB\n",
    "from sklearn.naive_bayes import CategoricalNB\n",
    "from sklearn.model_selection import RandomizedSearchCV\n",
    "from sklearn.model_selection import cross_val_score\n",
    "from sklearn.model_selection import KFold\n",
    "import pickle5 as pickle\n",
    "from joblib import load\n",
    "from sagemaker import get_execution_role\n",
    "from io import BytesIO\n",
    "import decimal\n",
    "import pprint as pp\n",
    "import io\n",
    "from datetime import date"
   ]
  },
  {
   "cell_type": "markdown",
   "id": "17f585bf",
   "metadata": {},
   "source": [
    "# 2. Connect to \"mlbucketstatefarm\" s3 bucket and get .sav file for ML Model"
   ]
  },
  {
   "cell_type": "code",
   "execution_count": 5,
   "id": "ad7774c3",
   "metadata": {},
   "outputs": [],
   "source": [
    "s3_resource = boto3.client('s3')\n",
    "bucket_name = \"mlbucketstatefarm\"\n",
    "key = \"finalized_model_rfc.sav\"\n",
    "\n",
    "\n",
    "# READ\n",
    "with tempfile.TemporaryFile() as fp:\n",
    "    s3_resource.download_fileobj(Fileobj=fp, Bucket=bucket_name, Key=key)\n",
    "    fp.seek(0)\n",
    "    ml_model = joblib.load(fp)"
   ]
  },
  {
   "cell_type": "code",
   "execution_count": 111,
   "id": "a29e0ecd",
   "metadata": {},
   "outputs": [
    {
     "data": {
      "text/plain": [
       "RandomForestClassifier(bootstrap=True, ccp_alpha=0.0, class_weight=None,\n",
       "                       criterion='gini', max_depth=None, max_features='auto',\n",
       "                       max_leaf_nodes=None, max_samples=None,\n",
       "                       min_impurity_decrease=0.0, min_impurity_split=None,\n",
       "                       min_samples_leaf=1, min_samples_split=2,\n",
       "                       min_weight_fraction_leaf=0.0, n_estimators=100,\n",
       "                       n_jobs=None, oob_score=False, random_state=None,\n",
       "                       verbose=0, warm_start=False)"
      ]
     },
     "execution_count": 111,
     "metadata": {},
     "output_type": "execute_result"
    }
   ],
   "source": [
    "ml_model"
   ]
  },
  {
   "cell_type": "markdown",
   "id": "0130138a",
   "metadata": {},
   "source": [
    "# 3. Get Role of sagemaker notebook"
   ]
  },
  {
   "cell_type": "code",
   "execution_count": 7,
   "id": "695dcdd2",
   "metadata": {},
   "outputs": [
    {
     "data": {
      "text/plain": [
       "'arn:aws:iam::860877260700:role/service-role/AmazonSageMaker-ExecutionRole-20210708T164937'"
      ]
     },
     "execution_count": 7,
     "metadata": {},
     "output_type": "execute_result"
    }
   ],
   "source": [
    "role = get_execution_role()\n",
    "role"
   ]
  },
  {
   "cell_type": "markdown",
   "id": "c4da9b83",
   "metadata": {},
   "source": [
    "# 4. Display all contents of \"mlbucketstatefarm\""
   ]
  },
  {
   "cell_type": "code",
   "execution_count": 8,
   "id": "8fe9b784",
   "metadata": {},
   "outputs": [
    {
     "name": "stdout",
     "output_type": "stream",
     "text": [
      "Date_2021-05-07_User_id_218817_fitbitdata.csv\n",
      "Date_2021-05-07_User_id_218817_hourlydata.csv\n",
      "Date_2021-05-07_User_id_218817_sleepdata.csv\n",
      "data_train_model.csv\n",
      "finalized_model_rfc.sav\n",
      "fitbit_realworld_und.csv\n",
      "rfc_model_saved.sav\n",
      "saved_scale.sav\n"
     ]
    }
   ],
   "source": [
    "bucket = 'mlbucketstatefarm'\n",
    "subfolder = ''\n",
    "conn = boto3.client('s3')\n",
    "contents = conn.list_objects(Bucket=bucket, Prefix=subfolder)['Contents']\n",
    "files = []\n",
    "for f in contents:\n",
    "    print(f['Key'])\n",
    "    files.append(f)"
   ]
  },
  {
   "cell_type": "markdown",
   "id": "428499bf",
   "metadata": {},
   "source": [
    "# Convert .sav ml model to bytes"
   ]
  },
  {
   "cell_type": "code",
   "execution_count": 9,
   "id": "b6320051",
   "metadata": {},
   "outputs": [],
   "source": [
    "from io import BytesIO\n",
    "import joblib\n",
    "\n",
    "bytes_container = BytesIO()\n",
    "joblib.dump(ml_model, bytes_container)\n",
    "bytes_container.seek(0)  # update to enable reading\n",
    "\n",
    "bytes_model = bytes_container.read()"
   ]
  },
  {
   "cell_type": "markdown",
   "id": "639084ba",
   "metadata": {},
   "source": [
    "# Connect to dynamodb table and get all user-ids and age for each user"
   ]
  },
  {
   "cell_type": "code",
   "execution_count": 112,
   "id": "e5a91ca5",
   "metadata": {},
   "outputs": [
    {
     "name": "stdout",
     "output_type": "stream",
     "text": [
      "['5e6ff398-d3f6-47ee-b628-5c09fca5d861', '7f2610a5-0ad2-49cb-8146-b4150adf4b94', '2cb32af6-acd1-43e1-91fe-db8e3b695ff5', '4c31d6a6-fcb7-4aab-a3eb-ce2253491a0b', 'b61723a1-63f0-493b-a7bc-e99be914f864', 'de218c38-23ef-4ffa-af22-5b038779cdc6', 'c0447f38-73b5-4ef8-9956-1470a7c8d840', '22b3930b-4ff5-4eff-8e63-7b42a214f857']\n",
      "[0, 21, 22, 0, 0, 0, 0, 22]\n"
     ]
    }
   ],
   "source": [
    "dynamodb = boto3.resource('dynamodb')\n",
    "table = dynamodb.Table('UserDetails-y243fkkjqreqpiwavsqlwjf62a-dev')\n",
    "in_table = table.scan()\n",
    "\n",
    "response = in_table['Items']\n",
    "user_ids = []\n",
    "ages_for_users = []\n",
    "for i in range(len(response)):\n",
    "    uid = response[i]['id']\n",
    "    age = int(response[i]['age'])\n",
    "    user_ids.append(uid)\n",
    "    ages_for_users.append(age)\n",
    "\n",
    "print(user_ids)\n",
    "print(ages_for_users)"
   ]
  },
  {
   "cell_type": "markdown",
   "id": "3f503c55",
   "metadata": {},
   "source": [
    "# Connect to S3 bucket \"mobilebucket\" and get all users' health data. Calculate health Score for that particular day. Every day score calculation."
   ]
  },
  {
   "cell_type": "code",
   "execution_count": 121,
   "id": "22698e2f",
   "metadata": {},
   "outputs": [
    {
     "name": "stdout",
     "output_type": "stream",
     "text": [
      "d1 = 2021-07-23\n",
      "User id : 5e6ff398-d3f6-47ee-b628-5c09fca5d861, Age : 0, calories : 0, calories_mets : 0, steps : 0, distance : 0,    floors : 0, heart rate : 0, sleep score : 0\n",
      "User id : 7f2610a5-0ad2-49cb-8146-b4150adf4b94, Age : 21, calories : 1631, calories_mets : 9.895833333333334, steps : 0, distance : 0,    floors : 0, heart rate : 0.0, sleep score : 0\n",
      "User id : 2cb32af6-acd1-43e1-91fe-db8e3b695ff5, Age : 22, calories : 1607, calories_mets : 9.895833333333334, steps : 0, distance : 0,    floors : 0, heart rate : 0.0, sleep score : 0\n",
      "User id : 4c31d6a6-fcb7-4aab-a3eb-ce2253491a0b, Age : 0, calories : 1649, calories_mets : 9.895833333333334, steps : 0, distance : 0,    floors : 0, heart rate : 0.0, sleep score : 0\n",
      "User id : b61723a1-63f0-493b-a7bc-e99be914f864, Age : 0, calories : 0, calories_mets : 0, steps : 0, distance : 0,    floors : 0, heart rate : 0, sleep score : 0\n",
      "User id : de218c38-23ef-4ffa-af22-5b038779cdc6, Age : 0, calories : 1431, calories_mets : 9.895833333333334, steps : 0, distance : 0,    floors : 0, heart rate : 0.0, sleep score : 0\n",
      "User id : c0447f38-73b5-4ef8-9956-1470a7c8d840, Age : 0, calories : 0, calories_mets : 0, steps : 0, distance : 0,    floors : 0, heart rate : 0, sleep score : 0\n",
      "User id : 22b3930b-4ff5-4eff-8e63-7b42a214f857, Age : 22, calories : 0, calories_mets : 0, steps : 0, distance : 0,    floors : 0, heart rate : 0, sleep score : 0\n"
     ]
    }
   ],
   "source": [
    "s3 = boto3.resource('s3') \n",
    "the_bucket = s3.Bucket('mobilebucket')\n",
    "\n",
    "avg_calories = 0\n",
    "avg_sleep_score = 0\n",
    "from datetime import date\n",
    "today = date.today()\n",
    "d1 = today.strftime(\"%Y-%m-%d\")\n",
    "print(\"d1 =\", d1)\n",
    "results = []\n",
    "count = 0\n",
    "dates = []\n",
    "\n",
    "\n",
    "for userid in user_ids:\n",
    "    num_data_fitbit = 0\n",
    "    num_data_hourly = 0\n",
    "    calories = 0\n",
    "    calories_mets = 0\n",
    "    steps = 0\n",
    "    distance = 0\n",
    "    floors = 0\n",
    "    heart_rate = 0\n",
    "    sleep_score = 0\n",
    "    for obj in the_bucket.objects.all():\n",
    "        key = obj.key\n",
    "        body = obj.get()['Body'].read()\n",
    "        \n",
    "        con1 = ('Date_'+str(d1)+'_User_id_'+str(userid)+'_fitbitdata.csv')\n",
    "        con2 = ('Date_'+str(d1)+'_User_id_'+str(userid)+'_hourlydata.csv')\n",
    "        if con1 in key:\n",
    "            summary = pd.read_csv(io.BytesIO(body), encoding='utf8')\n",
    "            calories = summary.at[0,'caloriesOut']\n",
    "            sleep_score = summary.at[0,'efficiency']\n",
    "        if con2 in key:\n",
    "            hourly = pd.read_csv(io.BytesIO(body), encoding='utf8')\n",
    "            calories_mets = hourly['caloriesMets'].sum() / (96 * 15)\n",
    "            steps = hourly['steps'].sum()\n",
    "            distance = hourly['distance'].sum()\n",
    "            floors = hourly['floors'].sum()\n",
    "            elevation = hourly['elevation'].sum()\n",
    "            try:\n",
    "                heart_rate = hourly['heartRate'].sum()/96\n",
    "            except:\n",
    "                heart_rate = 0\n",
    "    age = ages_for_users[count]\n",
    "    print(\"User id : {}, Age : {}, calories : {}, calories_mets : {}, steps : {}, distance : {},\\\n",
    "    floors : {}, heart rate : {}, sleep score : {}\".format(userid,age,calories, calories_mets, steps,\\\n",
    "          distance, floors, heart_rate, sleep_score))\n",
    "    temp_list = [age,calories, calories_mets, steps, distance, floors,heart_rate, sleep_score]   \n",
    "    x = np.array([temp_list])\n",
    "    result = int(ml_model.predict(x))\n",
    "    if result == 8:\n",
    "        result = random.randint(8,10)\n",
    "    results.append(result)\n",
    "    dates.append(d1)\n",
    "    count = count + 1\n",
    "#health_score_daily = pd.DataFrame({'userid': user_ids,'healthscore': results})\n",
    "health_score_daily = pd.DataFrame({'userid': user_ids,'healthscore': results,'on_date':dates})"
   ]
  },
  {
   "cell_type": "markdown",
   "id": "46b9bf0c",
   "metadata": {},
   "source": [
    "# Connect to S3 bucket \"mobilebucket\" and get all users' health data. Calculate Health Score for historical data of each user."
   ]
  },
  {
   "cell_type": "code",
   "execution_count": 13,
   "id": "6bd62fc4",
   "metadata": {},
   "outputs": [
    {
     "name": "stdout",
     "output_type": "stream",
     "text": [
      "User id : 5e6ff398-d3f6-47ee-b628-5c09fca5d861, Age : 0, calories : 0.0, calories_mets : 0.0, steps : 0.0, distance : 0.0,    floors : 0.0, heart rate : 0.0, sleep score : 0.0\n",
      "User id : 7f2610a5-0ad2-49cb-8146-b4150adf4b94, Age : 21, calories : 1087.3333333333333, calories_mets : 6.597222222222222, steps : 0.0, distance : 0.0,    floors : 0.0, heart rate : 0.0, sleep score : 0.0\n",
      "User id : 2cb32af6-acd1-43e1-91fe-db8e3b695ff5, Age : 22, calories : 1447.1764705882354, calories_mets : 8.912500000000001, steps : 1028.5882352941176, distance : 0.7110352967454887,    floors : 1.1176470588235294, heart rate : 22.322916666666664, sleep score : 26.470588235294116\n",
      "User id : 4c31d6a6-fcb7-4aab-a3eb-ce2253491a0b, Age : 0, calories : 1099.3333333333333, calories_mets : 6.597222222222222, steps : 0.0, distance : 0.0,    floors : 0.0, heart rate : 0.0, sleep score : 0.0\n",
      "User id : b61723a1-63f0-493b-a7bc-e99be914f864, Age : 0, calories : 0.0, calories_mets : 0.0, steps : 0.0, distance : 0.0,    floors : 0.0, heart rate : 0.0, sleep score : 0.0\n",
      "User id : de218c38-23ef-4ffa-af22-5b038779cdc6, Age : 0, calories : 954.0, calories_mets : 6.597222222222222, steps : 0.0, distance : 0.0,    floors : 0.0, heart rate : 0.0, sleep score : 0.0\n",
      "User id : c0447f38-73b5-4ef8-9956-1470a7c8d840, Age : 0, calories : 0.0, calories_mets : 0.0, steps : 0.0, distance : 0.0,    floors : 0.0, heart rate : 0.0, sleep score : 0.0\n",
      "User id : 22b3930b-4ff5-4eff-8e63-7b42a214f857, Age : 22, calories : 0.0, calories_mets : 0.0, steps : 0.0, distance : 0.0,    floors : 0.0, heart rate : 0.0, sleep score : 0.0\n"
     ]
    }
   ],
   "source": [
    "s3 = boto3.resource('s3') \n",
    "the_bucket = s3.Bucket('mobilebucket')\n",
    "\n",
    "from datetime import date\n",
    "today = date.today()\n",
    "results = []\n",
    "count = 0\n",
    "\n",
    "\n",
    "\n",
    "for userid in user_ids:\n",
    "    num_data_fitbit = 0\n",
    "    num_data_hourly = 0\n",
    "    avg_calories = 0\n",
    "    avg_calories_mets = 0\n",
    "    avg_steps = 0\n",
    "    avg_distance = 0\n",
    "    avg_floors = 0\n",
    "    avg_elevation = 0\n",
    "    avg_heart_rate = 0\n",
    "    avg_sleep_score = 0\n",
    "    for obj in the_bucket.objects.all():\n",
    "        key = obj.key\n",
    "        body = obj.get()['Body'].read()\n",
    "        con1 = (str(userid)+'_fitbitdata.csv')\n",
    "        con2 = (str(userid)+'_hourlydata.csv')\n",
    "        if con1 in key:\n",
    "            summary = pd.read_csv(io.BytesIO(body), encoding='utf8')\n",
    "            calories = summary.at[0,'caloriesOut']\n",
    "            sleep_score = summary.at[0,'efficiency']\n",
    "            num_data_fitbit = num_data_fitbit + 1\n",
    "            avg_calories = avg_calories + calories\n",
    "            avg_sleep_score = avg_sleep_score + sleep_score\n",
    "        if con2 in key:\n",
    "            hourly = pd.read_csv(io.BytesIO(body), encoding='utf8')\n",
    "            calories_mets = hourly['caloriesMets'].sum() / (96 * 15)\n",
    "            steps = hourly['steps'].sum()\n",
    "            distance = hourly['distance'].sum()\n",
    "            floors = hourly['floors'].sum()\n",
    "            elevation = hourly['elevation'].sum()\n",
    "            try:\n",
    "                heart_rate = hourly['heartRate'].sum()/96\n",
    "            except:\n",
    "                heart_rate = 0\n",
    "            num_data_hourly = num_data_hourly + 1\n",
    "            avg_calories_mets = avg_calories_mets + calories_mets\n",
    "            avg_steps = avg_steps + steps\n",
    "            avg_distance = avg_distance + distance\n",
    "            avg_floors = avg_floors + floors\n",
    "            avg_elevation = avg_elevation + elevation\n",
    "            avg_heart_rate = avg_heart_rate + heart_rate\n",
    "            \n",
    "            \n",
    "        if(num_data_fitbit == 0 or num_data_hourly == 0):\n",
    "            num_data_fitbit = 1\n",
    "            num_data_hourly = 1\n",
    "            avg_calories = 0\n",
    "            avg_calories = 0\n",
    "            avg_calories_mets = 0\n",
    "            avg_steps = 0\n",
    "            avg_distance = 0\n",
    "            avg_floors = 0\n",
    "            avg_elevation = 0\n",
    "            avg_heart_rate = 0\n",
    "            avg_sleep_score = 0\n",
    "        \n",
    "    avg_calories = avg_calories / num_data_fitbit\n",
    "    avg_calories_mets = avg_calories_mets / num_data_hourly\n",
    "    avg_steps = avg_steps / num_data_hourly\n",
    "    avg_distance = avg_distance / num_data_hourly\n",
    "    avg_floors = avg_floors / num_data_hourly\n",
    "    avg_elevation = avg_elevation / num_data_hourly\n",
    "    avg_heart_rate = avg_heart_rate / num_data_hourly\n",
    "    avg_sleep_score = avg_sleep_score / num_data_fitbit\n",
    "        \n",
    "    \n",
    "    \n",
    "    age = ages_for_users[count]\n",
    "    print(\"User id : {}, Age : {}, calories : {}, calories_mets : {}, steps : {}, distance : {},\\\n",
    "    floors : {}, heart rate : {}, sleep score : {}\".format(userid,age,avg_calories, avg_calories_mets, avg_steps,\\\n",
    "          avg_distance, avg_floors, avg_heart_rate, avg_sleep_score))\n",
    "    temp_list = [age,avg_calories, avg_calories_mets, avg_steps,avg_distance, avg_floors, avg_heart_rate, avg_sleep_score]  \n",
    "    x = np.array([temp_list])\n",
    "    result = int(ml_model.predict(x))\n",
    "    results.append(result)\n",
    "    if result == 8:\n",
    "        result = random.randint(8,10)\n",
    "    count = count + 1\n",
    "health_score_historical = pd.DataFrame({'userid': user_ids,'healthscore': results})"
   ]
  },
  {
   "cell_type": "code",
   "execution_count": 14,
   "id": "242e3576",
   "metadata": {},
   "outputs": [
    {
     "data": {
      "text/html": [
       "<div>\n",
       "<style scoped>\n",
       "    .dataframe tbody tr th:only-of-type {\n",
       "        vertical-align: middle;\n",
       "    }\n",
       "\n",
       "    .dataframe tbody tr th {\n",
       "        vertical-align: top;\n",
       "    }\n",
       "\n",
       "    .dataframe thead th {\n",
       "        text-align: right;\n",
       "    }\n",
       "</style>\n",
       "<table border=\"1\" class=\"dataframe\">\n",
       "  <thead>\n",
       "    <tr style=\"text-align: right;\">\n",
       "      <th></th>\n",
       "      <th>userid</th>\n",
       "      <th>healthscore</th>\n",
       "    </tr>\n",
       "  </thead>\n",
       "  <tbody>\n",
       "    <tr>\n",
       "      <th>0</th>\n",
       "      <td>5e6ff398-d3f6-47ee-b628-5c09fca5d861</td>\n",
       "      <td>2</td>\n",
       "    </tr>\n",
       "    <tr>\n",
       "      <th>1</th>\n",
       "      <td>7f2610a5-0ad2-49cb-8146-b4150adf4b94</td>\n",
       "      <td>2</td>\n",
       "    </tr>\n",
       "    <tr>\n",
       "      <th>2</th>\n",
       "      <td>2cb32af6-acd1-43e1-91fe-db8e3b695ff5</td>\n",
       "      <td>3</td>\n",
       "    </tr>\n",
       "    <tr>\n",
       "      <th>3</th>\n",
       "      <td>4c31d6a6-fcb7-4aab-a3eb-ce2253491a0b</td>\n",
       "      <td>2</td>\n",
       "    </tr>\n",
       "    <tr>\n",
       "      <th>4</th>\n",
       "      <td>b61723a1-63f0-493b-a7bc-e99be914f864</td>\n",
       "      <td>2</td>\n",
       "    </tr>\n",
       "    <tr>\n",
       "      <th>5</th>\n",
       "      <td>de218c38-23ef-4ffa-af22-5b038779cdc6</td>\n",
       "      <td>2</td>\n",
       "    </tr>\n",
       "    <tr>\n",
       "      <th>6</th>\n",
       "      <td>c0447f38-73b5-4ef8-9956-1470a7c8d840</td>\n",
       "      <td>2</td>\n",
       "    </tr>\n",
       "    <tr>\n",
       "      <th>7</th>\n",
       "      <td>22b3930b-4ff5-4eff-8e63-7b42a214f857</td>\n",
       "      <td>2</td>\n",
       "    </tr>\n",
       "  </tbody>\n",
       "</table>\n",
       "</div>"
      ],
      "text/plain": [
       "                                 userid  healthscore\n",
       "0  5e6ff398-d3f6-47ee-b628-5c09fca5d861            2\n",
       "1  7f2610a5-0ad2-49cb-8146-b4150adf4b94            2\n",
       "2  2cb32af6-acd1-43e1-91fe-db8e3b695ff5            3\n",
       "3  4c31d6a6-fcb7-4aab-a3eb-ce2253491a0b            2\n",
       "4  b61723a1-63f0-493b-a7bc-e99be914f864            2\n",
       "5  de218c38-23ef-4ffa-af22-5b038779cdc6            2\n",
       "6  c0447f38-73b5-4ef8-9956-1470a7c8d840            2\n",
       "7  22b3930b-4ff5-4eff-8e63-7b42a214f857            2"
      ]
     },
     "execution_count": 14,
     "metadata": {},
     "output_type": "execute_result"
    }
   ],
   "source": [
    "health_score_historical"
   ]
  },
  {
   "cell_type": "code",
   "execution_count": 14,
   "id": "1bd341ec",
   "metadata": {},
   "outputs": [],
   "source": [
    "# table_update = boto3.resource('dynamodb').Table('UserDetails-y243fkkjqreqpiwavsqlwjf62a-dev')\n",
    "for index,row in health_score_daily.iterrows():\n",
    "\n",
    "    # get item\n",
    "    response = table.get_item(Key={'id': str(row['userid'])})\n",
    "    item = response['Item']\n",
    "\n",
    "    # update\n",
    "    item['score'] = int(row['healthscore'])\n",
    "\n",
    "    # put (idempotent)\n",
    "    table.put_item(Item=item)"
   ]
  },
  {
   "cell_type": "markdown",
   "id": "d47ff875",
   "metadata": {},
   "source": [
    "# Simulation of Score Drop and Increase."
   ]
  },
  {
   "cell_type": "code",
   "execution_count": 86,
   "id": "f77836f5",
   "metadata": {},
   "outputs": [
    {
     "name": "stdout",
     "output_type": "stream",
     "text": [
      "Current result after 7 Days worth of data collection is :  5\n"
     ]
    }
   ],
   "source": [
    "#So if we have 7 days worth of data and 21 days worth of data added on to it how would it affect the health score\n",
    "#This would happen in the code written above but since we don't have data we have to simulate it.\n",
    "#Let's assume some values for the user_id of \n",
    "#\"2cb32af6-acd1-43e1-91fe-db8e3b695ff5\". Currently the health_score is 5. Let's see if we can increase it to 7 or 8\n",
    "# by giving it high values\n",
    "\n",
    "age = 31\n",
    "avg_calories = 1638\n",
    "avg_calories_mets = 9.895833333333334\n",
    "avg_steps = 7234\n",
    "avg_distance = 4.23\n",
    "avg_floors = 7\n",
    "avg_heart_rate = 77\n",
    "avg_sleep_score = 85\n",
    "\n",
    "\n",
    "temp_list = [age,avg_calories, avg_calories_mets, avg_steps,avg_distance, avg_floors,\\\n",
    "avg_heart_rate, avg_sleep_score]  \n",
    "x = np.array([temp_list])\n",
    "result = int(ml_model.predict(x))\n",
    "print(\"Current result after 7 Days worth of data collection is : \",result)"
   ]
  },
  {
   "cell_type": "code",
   "execution_count": 87,
   "id": "218dc240",
   "metadata": {},
   "outputs": [
    {
     "name": "stdout",
     "output_type": "stream",
     "text": [
      "20 31 3362.6666666666665 11.668505155872168 10134.952380952382 6.329387972451044 17.80952380952381 66.0 95.95238095238095\n"
     ]
    }
   ],
   "source": [
    "for i in range(21):\n",
    "    avg_calories = avg_calories + random.randint(3000,3500)\n",
    "    avg_calories_mets = avg_calories_mets + random.uniform(10.0,12.5)\n",
    "    avg_steps = avg_steps + random.randint(9500,10000)\n",
    "    avg_distance = avg_distance + random.uniform(5.5,6.5)\n",
    "    avg_floors = avg_floors + random.randint(15,20)\n",
    "    avg_heart_rate = avg_heart_rate + random.randint(55,70)\n",
    "    avg_sleep_score = avg_sleep_score + random.randint(90,95)\n",
    "    \n",
    "    \n",
    "avg_calories = avg_calories/(i+1)\n",
    "avg_calories_mets = avg_calories_mets/(i+1)\n",
    "avg_steps = avg_steps/(i+1)\n",
    "avg_distance = avg_distance/(i+1)\n",
    "avg_floors = avg_floors/(i+1)\n",
    "avg_heart_rate = avg_heart_rate/(i+1)\n",
    "avg_sleep_score = avg_sleep_score/(i+1)\n",
    "print(i,age,avg_calories, avg_calories_mets, avg_steps,\\\n",
    "          avg_distance, avg_floors, avg_heart_rate, avg_sleep_score)"
   ]
  },
  {
   "cell_type": "code",
   "execution_count": 89,
   "id": "ea910842",
   "metadata": {},
   "outputs": [
    {
     "name": "stdout",
     "output_type": "stream",
     "text": [
      "Heatlh Score after 21 days worth of data collected is 8\n"
     ]
    }
   ],
   "source": [
    "temp_list = [age,avg_calories, avg_calories_mets, avg_steps,avg_distance, avg_floors,\\\n",
    "avg_heart_rate, avg_sleep_score]  \n",
    "x = np.array([temp_list])\n",
    "result = int(ml_model.predict(x))\n",
    "print(\"Heatlh Score after {} days worth of data collected is {}\".format(i+1,result))"
   ]
  },
  {
   "cell_type": "markdown",
   "id": "20ad6ec9",
   "metadata": {},
   "source": [
    "# Uploading and Updating Health_score_daily to s3 bucket to keep track of each user's health score for record"
   ]
  },
  {
   "cell_type": "code",
   "execution_count": 115,
   "id": "3339832b",
   "metadata": {},
   "outputs": [],
   "source": [
    "csv_files = []\n",
    "for s in user_ids:\n",
    "    for obj in the_bucket.objects.all():\n",
    "        key = obj.key\n",
    "    #body = obj.get()['Body'].read()\n",
    "        con3 = (\"User_id_\"+str(s)+\"_scorehistory.csv\")\n",
    "        if con3 in key:\n",
    "            if key not in csv_files:\n",
    "                csv_files.append(key)\n",
    "        else:\n",
    "            if con3 not in csv_files:\n",
    "                csv_files.append(con3)"
   ]
  },
  {
   "cell_type": "code",
   "execution_count": 116,
   "id": "c7284e7e",
   "metadata": {},
   "outputs": [
    {
     "data": {
      "text/plain": [
       "['User_id_5e6ff398-d3f6-47ee-b628-5c09fca5d861_scorehistory.csv',\n",
       " 'User_id_7f2610a5-0ad2-49cb-8146-b4150adf4b94_scorehistory.csv',\n",
       " 'User_id_2cb32af6-acd1-43e1-91fe-db8e3b695ff5_scorehistory.csv',\n",
       " 'User_id_4c31d6a6-fcb7-4aab-a3eb-ce2253491a0b_scorehistory.csv',\n",
       " 'User_id_b61723a1-63f0-493b-a7bc-e99be914f864_scorehistory.csv',\n",
       " 'User_id_de218c38-23ef-4ffa-af22-5b038779cdc6_scorehistory.csv',\n",
       " 'User_id_c0447f38-73b5-4ef8-9956-1470a7c8d840_scorehistory.csv',\n",
       " 'User_id_22b3930b-4ff5-4eff-8e63-7b42a214f857_scorehistory.csv']"
      ]
     },
     "execution_count": 116,
     "metadata": {},
     "output_type": "execute_result"
    }
   ],
   "source": [
    "csv_files"
   ]
  },
  {
   "cell_type": "code",
   "execution_count": 150,
   "id": "7d739fa3",
   "metadata": {},
   "outputs": [],
   "source": [
    "s3 = boto3.resource('s3') \n",
    "the_bucket = s3.Bucket('mobilebucket')\n",
    "keys_in_bucket = []\n",
    "for file in the_bucket.objects.all():\n",
    "    keys_in_bucket.append(file.key)"
   ]
  },
  {
   "cell_type": "code",
   "execution_count": 169,
   "id": "c4fae2f4",
   "metadata": {},
   "outputs": [],
   "source": [
    "s3 = boto3.client('s3') \n",
    "which = 0\n",
    "for index,e in health_score_daily.iterrows():  \n",
    "    if csv_files[which] not in keys_in_bucket:\n",
    "        temp_list = [[str(e[\"userid\"]),int(e[\"healthscore\"]),str(e[\"on_date\"])]]\n",
    "        temp_df = pd.DataFrame(temp_list)\n",
    "        bytes_to_write = temp_df.to_csv(None, header=['userid','healthscore','on_date'], index=False).encode()\n",
    "        s3.put_object(Body=bytes_to_write,Bucket=\"mobilebucket\",Key=csv_files[which]) \n",
    "    elif csv_files[which] in keys_in_bucket:\n",
    "        current_data = s3.get_object(Bucket='mobilebucket', Key=csv_files[which])\n",
    "        df = pd.read_csv(io.BytesIO(current_data['Body'].read()), encoding='utf8')\n",
    "        temp_list = [[str(e[\"userid\"]),int(e[\"healthscore\"]),str(e[\"on_date\"])]]\n",
    "        df = df.append(pd.DataFrame(temp_list, columns=['userid','healthscore','on_date']))\n",
    "        bytes_to_write = df.to_csv(None,header=['userid','healthscore','on_date'],index=False).encode()\n",
    "        s3.put_object(Body=bytes_to_write,Bucket=\"mobilebucket\",Key=csv_files[which]) \n",
    "    which = which + 1"
   ]
  },
  {
   "cell_type": "code",
   "execution_count": null,
   "id": "fbce96a8",
   "metadata": {},
   "outputs": [],
   "source": []
  }
 ],
 "metadata": {
  "kernelspec": {
   "display_name": "conda_python3",
   "language": "python",
   "name": "conda_python3"
  },
  "language_info": {
   "codemirror_mode": {
    "name": "ipython",
    "version": 3
   },
   "file_extension": ".py",
   "mimetype": "text/x-python",
   "name": "python",
   "nbconvert_exporter": "python",
   "pygments_lexer": "ipython3",
   "version": "3.6.13"
  }
 },
 "nbformat": 4,
 "nbformat_minor": 5
}
