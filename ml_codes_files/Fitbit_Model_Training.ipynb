{
  "nbformat": 4,
  "nbformat_minor": 0,
  "metadata": {
    "accelerator": "GPU",
    "colab": {
      "name": "Fitbit_Model_Training.ipynb",
      "provenance": [],
      "collapsed_sections": []
    },
    "kernelspec": {
      "display_name": "Python 3",
      "name": "python3"
    },
    "language_info": {
      "name": "python"
    }
  },
  "cells": [
    {
      "cell_type": "code",
      "metadata": {
        "id": "Fcq325SRaI4s"
      },
      "source": [
        "import numpy as np\n",
        "import pandas as pd\n",
        "from sklearn.tree import DecisionTreeClassifier\n",
        "import numpy as np\n",
        "import pandas as pd\n",
        "import seaborn as sns\n",
        "from matplotlib import pyplot as plt\n",
        "from sklearn.model_selection import train_test_split\n",
        "from sklearn import metrics\n",
        "from sklearn.linear_model import LogisticRegression\n",
        "from sklearn.metrics import confusion_matrix, recall_score, precision_score, f1_score, roc_auc_score,accuracy_score\n",
        "from sklearn.metrics import precision_recall_fscore_support\n",
        "from sklearn.model_selection import GridSearchCV\n",
        "from sklearn.ensemble import BaggingClassifier\n",
        "from sklearn.tree import export_graphviz\n",
        "from sklearn.ensemble import AdaBoostClassifier\n",
        "from sklearn.ensemble import RandomForestClassifier\n",
        "from sklearn.linear_model import LogisticRegression\n",
        "from sklearn.neighbors import KNeighborsClassifier\n",
        "from sklearn.naive_bayes import GaussianNB\n",
        "from sklearn.naive_bayes import CategoricalNB\n",
        "from sklearn.model_selection import RandomizedSearchCV\n",
        "from sklearn.model_selection import cross_val_score\n",
        "from sklearn.model_selection import KFold"
      ],
      "execution_count": 16,
      "outputs": []
    },
    {
      "cell_type": "code",
      "metadata": {
        "id": "PfZRm_tqaUe5"
      },
      "source": [
        "health_df = pd.read_csv(\"/content/sample_data/data_train_model.csv\")"
      ],
      "execution_count": 25,
      "outputs": []
    },
    {
      "cell_type": "code",
      "metadata": {
        "id": "dkzv_PjA7DT8",
        "colab": {
          "base_uri": "https://localhost:8080/"
        },
        "outputId": "3cc8c908-904a-43cc-82e7-7655cc190a39"
      },
      "source": [
        "pd.value_counts(health_df.HealthStatus)"
      ],
      "execution_count": 18,
      "outputs": [
        {
          "output_type": "execute_result",
          "data": {
            "text/plain": [
              "5    20999\n",
              "4    20999\n",
              "3    20999\n",
              "2    20999\n",
              "1    20999\n",
              "Name: HealthStatus, dtype: int64"
            ]
          },
          "metadata": {
            "tags": []
          },
          "execution_count": 18
        }
      ]
    },
    {
      "cell_type": "code",
      "metadata": {
        "colab": {
          "base_uri": "https://localhost:8080/"
        },
        "id": "PEd5OG2DaXZv",
        "outputId": "47db9aa5-7dee-46c3-e81b-ea8354d42a66"
      },
      "source": [
        "print(health_df.info())\n",
        "pd.set_option('display.max_columns', None)\n",
        "print(health_df.head(5))"
      ],
      "execution_count": 19,
      "outputs": [
        {
          "output_type": "stream",
          "text": [
            "<class 'pandas.core.frame.DataFrame'>\n",
            "RangeIndex: 104995 entries, 0 to 104994\n",
            "Data columns (total 10 columns):\n",
            " #   Column        Non-Null Count   Dtype  \n",
            "---  ------        --------------   -----  \n",
            " 0   Age           104995 non-null  int64  \n",
            " 1   Calories      104995 non-null  float64\n",
            " 2   CaloriesMets  104995 non-null  float64\n",
            " 3   Steps         104995 non-null  int64  \n",
            " 4   Distance      104995 non-null  float64\n",
            " 5   Floors        104995 non-null  int64  \n",
            " 6   Elevation     104995 non-null  int64  \n",
            " 7   HeartRate     104995 non-null  int64  \n",
            " 8   SleepScore    104995 non-null  int64  \n",
            " 9   HealthStatus  104995 non-null  int64  \n",
            "dtypes: float64(3), int64(7)\n",
            "memory usage: 8.0 MB\n",
            "None\n",
            "   Age     Calories  CaloriesMets  Steps  Distance  Floors  Elevation  \\\n",
            "0   22  2738.407750     25.590602   8258  5.550690       7          9   \n",
            "1   23  1787.719174      0.000000  11423  6.898088       9          2   \n",
            "2   23  2782.306870      0.000000   9300  3.305900       0         12   \n",
            "3   26  2972.967708     32.261626  10973  3.290408       3          9   \n",
            "4   23  2291.400829     20.573942  11116  7.596035       4          2   \n",
            "\n",
            "   HeartRate  SleepScore  HealthStatus  \n",
            "0         75          99             1  \n",
            "1         74          92             1  \n",
            "2         77          75             1  \n",
            "3         75         100             1  \n",
            "4         73         100             1  \n"
          ],
          "name": "stdout"
        }
      ]
    },
    {
      "cell_type": "code",
      "metadata": {
        "colab": {
          "base_uri": "https://localhost:8080/",
          "height": 359
        },
        "id": "8rdl-Pdeaamr",
        "outputId": "777de88a-0ce3-4b4a-aa43-859771c235d4"
      },
      "source": [
        "health_df.describe().transpose()"
      ],
      "execution_count": 20,
      "outputs": [
        {
          "output_type": "execute_result",
          "data": {
            "text/html": [
              "<div>\n",
              "<style scoped>\n",
              "    .dataframe tbody tr th:only-of-type {\n",
              "        vertical-align: middle;\n",
              "    }\n",
              "\n",
              "    .dataframe tbody tr th {\n",
              "        vertical-align: top;\n",
              "    }\n",
              "\n",
              "    .dataframe thead th {\n",
              "        text-align: right;\n",
              "    }\n",
              "</style>\n",
              "<table border=\"1\" class=\"dataframe\">\n",
              "  <thead>\n",
              "    <tr style=\"text-align: right;\">\n",
              "      <th></th>\n",
              "      <th>count</th>\n",
              "      <th>mean</th>\n",
              "      <th>std</th>\n",
              "      <th>min</th>\n",
              "      <th>25%</th>\n",
              "      <th>50%</th>\n",
              "      <th>75%</th>\n",
              "      <th>max</th>\n",
              "    </tr>\n",
              "  </thead>\n",
              "  <tbody>\n",
              "    <tr>\n",
              "      <th>Age</th>\n",
              "      <td>104995.0</td>\n",
              "      <td>35.008581</td>\n",
              "      <td>8.753423</td>\n",
              "      <td>20.0</td>\n",
              "      <td>28.000000</td>\n",
              "      <td>35.000000</td>\n",
              "      <td>42.000000</td>\n",
              "      <td>50.000000</td>\n",
              "    </tr>\n",
              "    <tr>\n",
              "      <th>Calories</th>\n",
              "      <td>104995.0</td>\n",
              "      <td>1665.560248</td>\n",
              "      <td>802.118487</td>\n",
              "      <td>0.0</td>\n",
              "      <td>1073.750773</td>\n",
              "      <td>1664.600898</td>\n",
              "      <td>2225.232864</td>\n",
              "      <td>3599.815657</td>\n",
              "    </tr>\n",
              "    <tr>\n",
              "      <th>CaloriesMets</th>\n",
              "      <td>104995.0</td>\n",
              "      <td>10.573062</td>\n",
              "      <td>9.736079</td>\n",
              "      <td>0.0</td>\n",
              "      <td>0.000000</td>\n",
              "      <td>9.046445</td>\n",
              "      <td>18.962557</td>\n",
              "      <td>33.476488</td>\n",
              "    </tr>\n",
              "    <tr>\n",
              "      <th>Steps</th>\n",
              "      <td>104995.0</td>\n",
              "      <td>6031.956607</td>\n",
              "      <td>2624.915328</td>\n",
              "      <td>1000.0</td>\n",
              "      <td>3931.000000</td>\n",
              "      <td>5789.000000</td>\n",
              "      <td>8172.500000</td>\n",
              "      <td>12000.000000</td>\n",
              "    </tr>\n",
              "    <tr>\n",
              "      <th>Distance</th>\n",
              "      <td>104995.0</td>\n",
              "      <td>4.949676</td>\n",
              "      <td>3.220573</td>\n",
              "      <td>0.0</td>\n",
              "      <td>2.318819</td>\n",
              "      <td>4.864425</td>\n",
              "      <td>7.413330</td>\n",
              "      <td>12.997188</td>\n",
              "    </tr>\n",
              "    <tr>\n",
              "      <th>Floors</th>\n",
              "      <td>104995.0</td>\n",
              "      <td>4.520511</td>\n",
              "      <td>4.002414</td>\n",
              "      <td>0.0</td>\n",
              "      <td>0.000000</td>\n",
              "      <td>4.000000</td>\n",
              "      <td>8.000000</td>\n",
              "      <td>14.000000</td>\n",
              "    </tr>\n",
              "    <tr>\n",
              "      <th>Elevation</th>\n",
              "      <td>104995.0</td>\n",
              "      <td>4.229630</td>\n",
              "      <td>3.301637</td>\n",
              "      <td>0.0</td>\n",
              "      <td>1.000000</td>\n",
              "      <td>4.000000</td>\n",
              "      <td>7.000000</td>\n",
              "      <td>12.000000</td>\n",
              "    </tr>\n",
              "    <tr>\n",
              "      <th>HeartRate</th>\n",
              "      <td>104995.0</td>\n",
              "      <td>76.995847</td>\n",
              "      <td>7.245244</td>\n",
              "      <td>60.0</td>\n",
              "      <td>72.000000</td>\n",
              "      <td>77.000000</td>\n",
              "      <td>83.000000</td>\n",
              "      <td>90.000000</td>\n",
              "    </tr>\n",
              "    <tr>\n",
              "      <th>SleepScore</th>\n",
              "      <td>104995.0</td>\n",
              "      <td>79.502395</td>\n",
              "      <td>15.102064</td>\n",
              "      <td>45.0</td>\n",
              "      <td>69.000000</td>\n",
              "      <td>80.000000</td>\n",
              "      <td>92.000000</td>\n",
              "      <td>100.000000</td>\n",
              "    </tr>\n",
              "    <tr>\n",
              "      <th>HealthStatus</th>\n",
              "      <td>104995.0</td>\n",
              "      <td>3.000000</td>\n",
              "      <td>1.414220</td>\n",
              "      <td>1.0</td>\n",
              "      <td>2.000000</td>\n",
              "      <td>3.000000</td>\n",
              "      <td>4.000000</td>\n",
              "      <td>5.000000</td>\n",
              "    </tr>\n",
              "  </tbody>\n",
              "</table>\n",
              "</div>"
            ],
            "text/plain": [
              "                 count         mean          std     min          25%  \\\n",
              "Age           104995.0    35.008581     8.753423    20.0    28.000000   \n",
              "Calories      104995.0  1665.560248   802.118487     0.0  1073.750773   \n",
              "CaloriesMets  104995.0    10.573062     9.736079     0.0     0.000000   \n",
              "Steps         104995.0  6031.956607  2624.915328  1000.0  3931.000000   \n",
              "Distance      104995.0     4.949676     3.220573     0.0     2.318819   \n",
              "Floors        104995.0     4.520511     4.002414     0.0     0.000000   \n",
              "Elevation     104995.0     4.229630     3.301637     0.0     1.000000   \n",
              "HeartRate     104995.0    76.995847     7.245244    60.0    72.000000   \n",
              "SleepScore    104995.0    79.502395    15.102064    45.0    69.000000   \n",
              "HealthStatus  104995.0     3.000000     1.414220     1.0     2.000000   \n",
              "\n",
              "                      50%          75%           max  \n",
              "Age             35.000000    42.000000     50.000000  \n",
              "Calories      1664.600898  2225.232864   3599.815657  \n",
              "CaloriesMets     9.046445    18.962557     33.476488  \n",
              "Steps         5789.000000  8172.500000  12000.000000  \n",
              "Distance         4.864425     7.413330     12.997188  \n",
              "Floors           4.000000     8.000000     14.000000  \n",
              "Elevation        4.000000     7.000000     12.000000  \n",
              "HeartRate       77.000000    83.000000     90.000000  \n",
              "SleepScore      80.000000    92.000000    100.000000  \n",
              "HealthStatus     3.000000     4.000000      5.000000  "
            ]
          },
          "metadata": {
            "tags": []
          },
          "execution_count": 20
        }
      ]
    },
    {
      "cell_type": "code",
      "metadata": {
        "colab": {
          "base_uri": "https://localhost:8080/",
          "height": 553
        },
        "id": "qtG7t4wFadkB",
        "outputId": "f366923c-5a9f-4a3b-cc35-9b80f23d01e8"
      },
      "source": [
        "plt.figure(figsize=(20,10))\n",
        "sns.heatmap(health_df.corr(),annot=True,linewidths=.5,center=0,cbar=True,cmap=\"YlGnBu\")\n",
        "plt.show()"
      ],
      "execution_count": 21,
      "outputs": [
        {
          "output_type": "display_data",
          "data": {
            "image/png": "[encoded data removed]",
            "text/plain": [
              "<Figure size 1440x720 with 2 Axes>"
            ]
          },
          "metadata": {
            "tags": [],
            "needs_background": "light"
          }
        }
      ]
    },
    {
      "cell_type": "code",
      "metadata": {
        "id": "8KxKxSpaaj8P"
      },
      "source": [
        "corr_df = health_df.corr()"
      ],
      "execution_count": 26,
      "outputs": []
    },
    {
      "cell_type": "code",
      "metadata": {
        "colab": {
          "base_uri": "https://localhost:8080/",
          "height": 297
        },
        "id": "iGQtgs3q4bF5",
        "outputId": "30c69760-6b61-4761-c07c-f0de75ffb214"
      },
      "source": [
        "corr_df[((corr_df > 0.3) & (corr_df < 1))| (corr_df < -0.3)].dropna(how='all')"
      ],
      "execution_count": 27,
      "outputs": [
        {
          "output_type": "execute_result",
          "data": {
            "text/html": [
              "<div>\n",
              "<style scoped>\n",
              "    .dataframe tbody tr th:only-of-type {\n",
              "        vertical-align: middle;\n",
              "    }\n",
              "\n",
              "    .dataframe tbody tr th {\n",
              "        vertical-align: top;\n",
              "    }\n",
              "\n",
              "    .dataframe thead th {\n",
              "        text-align: right;\n",
              "    }\n",
              "</style>\n",
              "<table border=\"1\" class=\"dataframe\">\n",
              "  <thead>\n",
              "    <tr style=\"text-align: right;\">\n",
              "      <th></th>\n",
              "      <th>Age</th>\n",
              "      <th>Calories</th>\n",
              "      <th>CaloriesMets</th>\n",
              "      <th>Steps</th>\n",
              "      <th>Distance</th>\n",
              "      <th>Floors</th>\n",
              "      <th>Elevation</th>\n",
              "      <th>HeartRate</th>\n",
              "      <th>SleepScore</th>\n",
              "      <th>HealthStatus</th>\n",
              "    </tr>\n",
              "  </thead>\n",
              "  <tbody>\n",
              "    <tr>\n",
              "      <th>Calories</th>\n",
              "      <td>NaN</td>\n",
              "      <td>NaN</td>\n",
              "      <td>NaN</td>\n",
              "      <td>0.610877</td>\n",
              "      <td>0.338978</td>\n",
              "      <td>NaN</td>\n",
              "      <td>0.323697</td>\n",
              "      <td>-0.348609</td>\n",
              "      <td>0.449668</td>\n",
              "      <td>-0.675613</td>\n",
              "    </tr>\n",
              "    <tr>\n",
              "      <th>Steps</th>\n",
              "      <td>NaN</td>\n",
              "      <td>0.610877</td>\n",
              "      <td>NaN</td>\n",
              "      <td>NaN</td>\n",
              "      <td>0.436686</td>\n",
              "      <td>0.308978</td>\n",
              "      <td>0.414951</td>\n",
              "      <td>-0.454922</td>\n",
              "      <td>0.595543</td>\n",
              "      <td>-0.880816</td>\n",
              "    </tr>\n",
              "    <tr>\n",
              "      <th>Distance</th>\n",
              "      <td>NaN</td>\n",
              "      <td>0.338978</td>\n",
              "      <td>NaN</td>\n",
              "      <td>0.436686</td>\n",
              "      <td>NaN</td>\n",
              "      <td>NaN</td>\n",
              "      <td>NaN</td>\n",
              "      <td>NaN</td>\n",
              "      <td>0.323747</td>\n",
              "      <td>-0.490282</td>\n",
              "    </tr>\n",
              "    <tr>\n",
              "      <th>Floors</th>\n",
              "      <td>NaN</td>\n",
              "      <td>NaN</td>\n",
              "      <td>NaN</td>\n",
              "      <td>0.308978</td>\n",
              "      <td>NaN</td>\n",
              "      <td>NaN</td>\n",
              "      <td>NaN</td>\n",
              "      <td>NaN</td>\n",
              "      <td>NaN</td>\n",
              "      <td>-0.347890</td>\n",
              "    </tr>\n",
              "    <tr>\n",
              "      <th>Elevation</th>\n",
              "      <td>NaN</td>\n",
              "      <td>0.323697</td>\n",
              "      <td>NaN</td>\n",
              "      <td>0.414951</td>\n",
              "      <td>NaN</td>\n",
              "      <td>NaN</td>\n",
              "      <td>NaN</td>\n",
              "      <td>NaN</td>\n",
              "      <td>0.308261</td>\n",
              "      <td>-0.465837</td>\n",
              "    </tr>\n",
              "    <tr>\n",
              "      <th>HeartRate</th>\n",
              "      <td>NaN</td>\n",
              "      <td>-0.348609</td>\n",
              "      <td>NaN</td>\n",
              "      <td>-0.454922</td>\n",
              "      <td>NaN</td>\n",
              "      <td>NaN</td>\n",
              "      <td>NaN</td>\n",
              "      <td>NaN</td>\n",
              "      <td>-0.315695</td>\n",
              "      <td>0.484934</td>\n",
              "    </tr>\n",
              "    <tr>\n",
              "      <th>SleepScore</th>\n",
              "      <td>NaN</td>\n",
              "      <td>0.449668</td>\n",
              "      <td>NaN</td>\n",
              "      <td>0.595543</td>\n",
              "      <td>0.323747</td>\n",
              "      <td>NaN</td>\n",
              "      <td>0.308261</td>\n",
              "      <td>-0.315695</td>\n",
              "      <td>NaN</td>\n",
              "      <td>-0.681295</td>\n",
              "    </tr>\n",
              "    <tr>\n",
              "      <th>HealthStatus</th>\n",
              "      <td>NaN</td>\n",
              "      <td>-0.675613</td>\n",
              "      <td>NaN</td>\n",
              "      <td>-0.880816</td>\n",
              "      <td>-0.490282</td>\n",
              "      <td>-0.347890</td>\n",
              "      <td>-0.465837</td>\n",
              "      <td>0.484934</td>\n",
              "      <td>-0.681295</td>\n",
              "      <td>NaN</td>\n",
              "    </tr>\n",
              "  </tbody>\n",
              "</table>\n",
              "</div>"
            ],
            "text/plain": [
              "              Age  Calories  CaloriesMets     Steps  Distance    Floors  \\\n",
              "Calories      NaN       NaN           NaN  0.610877  0.338978       NaN   \n",
              "Steps         NaN  0.610877           NaN       NaN  0.436686  0.308978   \n",
              "Distance      NaN  0.338978           NaN  0.436686       NaN       NaN   \n",
              "Floors        NaN       NaN           NaN  0.308978       NaN       NaN   \n",
              "Elevation     NaN  0.323697           NaN  0.414951       NaN       NaN   \n",
              "HeartRate     NaN -0.348609           NaN -0.454922       NaN       NaN   \n",
              "SleepScore    NaN  0.449668           NaN  0.595543  0.323747       NaN   \n",
              "HealthStatus  NaN -0.675613           NaN -0.880816 -0.490282 -0.347890   \n",
              "\n",
              "              Elevation  HeartRate  SleepScore  HealthStatus  \n",
              "Calories       0.323697  -0.348609    0.449668     -0.675613  \n",
              "Steps          0.414951  -0.454922    0.595543     -0.880816  \n",
              "Distance            NaN        NaN    0.323747     -0.490282  \n",
              "Floors              NaN        NaN         NaN     -0.347890  \n",
              "Elevation           NaN        NaN    0.308261     -0.465837  \n",
              "HeartRate           NaN        NaN   -0.315695      0.484934  \n",
              "SleepScore     0.308261  -0.315695         NaN     -0.681295  \n",
              "HealthStatus  -0.465837   0.484934   -0.681295           NaN  "
            ]
          },
          "metadata": {
            "tags": []
          },
          "execution_count": 27
        }
      ]
    },
    {
      "cell_type": "code",
      "metadata": {
        "id": "x6fzAc6vdRIt"
      },
      "source": [
        "health_df = health_df.drop(['Age','CaloriesMets','Floors'],axis=1)"
      ],
      "execution_count": 24,
      "outputs": []
    },
    {
      "cell_type": "markdown",
      "metadata": {
        "id": "pYlaNwuZbNiR"
      },
      "source": [
        "Model Building for DTC"
      ]
    },
    {
      "cell_type": "code",
      "metadata": {
        "colab": {
          "base_uri": "https://localhost:8080/"
        },
        "id": "t3TvSoZkatnN",
        "outputId": "4705bdd6-9c16-4c1f-f476-ad3af89ba92a"
      },
      "source": [
        "X_train, X_test, y_train, y_test =train_test_split(health_df.drop(['HealthStatus'],axis=1), health_df['HealthStatus'], test_size=.25,\n",
        "                                                   random_state=22)\n",
        "X_train.shape,X_test.shape"
      ],
      "execution_count": 28,
      "outputs": [
        {
          "output_type": "execute_result",
          "data": {
            "text/plain": [
              "((78746, 9), (26249, 9))"
            ]
          },
          "metadata": {
            "tags": []
          },
          "execution_count": 28
        }
      ]
    },
    {
      "cell_type": "code",
      "metadata": {
        "id": "Mp86d1GeazYA"
      },
      "source": [
        "dtc = DecisionTreeClassifier()"
      ],
      "execution_count": 29,
      "outputs": []
    },
    {
      "cell_type": "code",
      "metadata": {
        "colab": {
          "base_uri": "https://localhost:8080/"
        },
        "id": "Z3ejNt8Ra3QZ",
        "outputId": "da9ead64-ee01-48de-cc5a-04561d53cd97"
      },
      "source": [
        "dtc.fit(X_train,y_train)"
      ],
      "execution_count": 30,
      "outputs": [
        {
          "output_type": "execute_result",
          "data": {
            "text/plain": [
              "DecisionTreeClassifier(ccp_alpha=0.0, class_weight=None, criterion='gini',\n",
              "                       max_depth=None, max_features=None, max_leaf_nodes=None,\n",
              "                       min_impurity_decrease=0.0, min_impurity_split=None,\n",
              "                       min_samples_leaf=1, min_samples_split=2,\n",
              "                       min_weight_fraction_leaf=0.0, presort='deprecated',\n",
              "                       random_state=None, splitter='best')"
            ]
          },
          "metadata": {
            "tags": []
          },
          "execution_count": 30
        }
      ]
    },
    {
      "cell_type": "code",
      "metadata": {
        "colab": {
          "base_uri": "https://localhost:8080/"
        },
        "id": "HuEo0kMra5ZQ",
        "outputId": "047f143c-9a51-4248-a0bb-ad0f04c58059"
      },
      "source": [
        "dtc_acc_train = dtc.score(X_train,y_train)\n",
        "print(\"Decision Tree Training accuracy\",dtc_acc_train)  \n",
        "\n",
        "dtc_acc_test = dtc.score(X_test, y_test)\n",
        "print(\"Decision Tree  Testing accuracy\",dtc_acc_test)"
      ],
      "execution_count": 31,
      "outputs": [
        {
          "output_type": "stream",
          "text": [
            "Decision Tree Training accuracy 1.0\n",
            "Decision Tree  Testing accuracy 0.7645243628328698\n"
          ],
          "name": "stdout"
        }
      ]
    },
    {
      "cell_type": "markdown",
      "metadata": {
        "id": "j2RmOQw7blPh"
      },
      "source": [
        "Model Building for RFC"
      ]
    },
    {
      "cell_type": "code",
      "metadata": {
        "id": "Sne2jEgJbm4s"
      },
      "source": [
        "rfc = RandomForestClassifier()"
      ],
      "execution_count": 32,
      "outputs": []
    },
    {
      "cell_type": "code",
      "metadata": {
        "colab": {
          "base_uri": "https://localhost:8080/"
        },
        "id": "CrYIvrf3bo66",
        "outputId": "ecd1c8f6-7723-41f0-a389-407114e3b32f"
      },
      "source": [
        "rfc.fit(X_train,y_train)"
      ],
      "execution_count": 33,
      "outputs": [
        {
          "output_type": "execute_result",
          "data": {
            "text/plain": [
              "RandomForestClassifier(bootstrap=True, ccp_alpha=0.0, class_weight=None,\n",
              "                       criterion='gini', max_depth=None, max_features='auto',\n",
              "                       max_leaf_nodes=None, max_samples=None,\n",
              "                       min_impurity_decrease=0.0, min_impurity_split=None,\n",
              "                       min_samples_leaf=1, min_samples_split=2,\n",
              "                       min_weight_fraction_leaf=0.0, n_estimators=100,\n",
              "                       n_jobs=None, oob_score=False, random_state=None,\n",
              "                       verbose=0, warm_start=False)"
            ]
          },
          "metadata": {
            "tags": []
          },
          "execution_count": 33
        }
      ]
    },
    {
      "cell_type": "code",
      "metadata": {
        "colab": {
          "base_uri": "https://localhost:8080/"
        },
        "id": "b_KqxZcxb0hJ",
        "outputId": "cce6a300-96ac-4a87-a09f-7bbd8c66b401"
      },
      "source": [
        "rfc_acc_train = rfc.score(X_train,y_train)\n",
        "print(\"Random Forest Training accuracy\",rfc_acc_train)"
      ],
      "execution_count": 43,
      "outputs": [
        {
          "output_type": "stream",
          "text": [
            "Random Forest Training accuracy 1.0\n"
          ],
          "name": "stdout"
        }
      ]
    },
    {
      "cell_type": "code",
      "metadata": {
        "id": "44NY4geVa688"
      },
      "source": [
        "rfc_pred = rfc.predict(X_test)"
      ],
      "execution_count": 35,
      "outputs": []
    },
    {
      "cell_type": "code",
      "metadata": {
        "colab": {
          "base_uri": "https://localhost:8080/"
        },
        "id": "9iRs0hHAbnVk",
        "outputId": "a6e46666-d4a8-4791-a1a0-1f5197ddd49e"
      },
      "source": [
        "from sklearn.metrics import r2_score\n",
        "r2_score(y_test, rfc_pred)\n",
        "#ideal value is 1. So close enough."
      ],
      "execution_count": 38,
      "outputs": [
        {
          "output_type": "execute_result",
          "data": {
            "text/plain": [
              "0.878735512286639"
            ]
          },
          "metadata": {
            "tags": []
          },
          "execution_count": 38
        }
      ]
    },
    {
      "cell_type": "code",
      "metadata": {
        "colab": {
          "base_uri": "https://localhost:8080/"
        },
        "id": "2JdAyauAcYzU",
        "outputId": "d6e79ddd-4f90-4dbe-84f7-85332c9b3974"
      },
      "source": [
        "from sklearn import metrics\n",
        "mae_rfc = (metrics.mean_absolute_error(y_test, rfc_pred))\n",
        "mse_rfc = (metrics.mean_squared_error(y_test, rfc_pred))\n",
        "\n",
        "print(\"Mean Absolute Error : \",mae_rfc)\n",
        "print(\"Mean Sqaured Error : \",mse_rfc)"
      ],
      "execution_count": 42,
      "outputs": [
        {
          "output_type": "stream",
          "text": [
            "Mean Absolute Error :  0.21840832031696444\n",
            "Mean Sqaured Error :  0.2423330412587146\n"
          ],
          "name": "stdout"
        }
      ]
    },
    {
      "cell_type": "code",
      "metadata": {
        "colab": {
          "base_uri": "https://localhost:8080/"
        },
        "id": "hidbyD54dsO_",
        "outputId": "be9d3aba-806f-4cc8-a6df-283cba6bf2e6"
      },
      "source": [
        "import numpy as np\n",
        "\n",
        "def mean_absolute_percentage_error(y_test, rfc_pred): \n",
        "    y_test, y_pred = np.array(y_test), np.array(rfc_pred)\n",
        "    return np.mean(np.abs((y_test - rfc_pred) / y_test)) * 100\n",
        "\n",
        "mean_absolute_percentage_error(y_test,rfc_pred)\n",
        "# Good if below 10%\n",
        "# this mean the prediction is off by 8.17% from the actual value. \n",
        "# So if the Health Score is 3. The predicted score is 2.7558. \n",
        "# Which when rounded is 3. So pretty accurate, but could be closer.\n",
        "\n",
        "# Mean Absolute Error of 0.21 mean the score is off by \n",
        "# plus or minus 0.21. So if actual score is 3. It is either 3.218 \n",
        "# or 2.782."
      ],
      "execution_count": 44,
      "outputs": [
        {
          "output_type": "execute_result",
          "data": {
            "text/plain": [
              "8.171549392357804"
            ]
          },
          "metadata": {
            "tags": []
          },
          "execution_count": 44
        }
      ]
    },
    {
      "cell_type": "code",
      "metadata": {
        "colab": {
          "base_uri": "https://localhost:8080/"
        },
        "id": "tsLFzTuEeLPV",
        "outputId": "49e553ab-f39e-4b77-c611-7a472eecb473"
      },
      "source": [
        "rfc_pred_score = (rfc.score(X_test,y_test))\n",
        "rfc_pred_score\n",
        "# This is the overall prediction score. Which can vary drastically based on each run."
      ],
      "execution_count": 47,
      "outputs": [
        {
          "output_type": "execute_result",
          "data": {
            "text/plain": [
              "0.7935540401539106"
            ]
          },
          "metadata": {
            "tags": []
          },
          "execution_count": 47
        }
      ]
    },
    {
      "cell_type": "code",
      "metadata": {
        "colab": {
          "base_uri": "https://localhost:8080/"
        },
        "id": "Vu46Cu2Mf13n",
        "outputId": "10b628f4-4013-4a08-f37c-9edd18e35cde"
      },
      "source": [
        "import sklearn.metrics as skm\n",
        "cm = skm.multilabel_confusion_matrix(y_test,rfc_pred)\n",
        "print(cm)\n",
        "print(skm.classification_report(y_test,rfc_pred))"
      ],
      "execution_count": 71,
      "outputs": [
        {
          "output_type": "stream",
          "text": [
            "[[[20496   507]\n",
            "  [  472  4774]]\n",
            "\n",
            " [[20001   948]\n",
            "  [  984  4316]]\n",
            "\n",
            " [[19893  1099]\n",
            "  [ 1514  3743]]\n",
            "\n",
            " [[19587  1458]\n",
            "  [ 1773  3431]]\n",
            "\n",
            " [[19600  1407]\n",
            "  [  676  4566]]]\n",
            "              precision    recall  f1-score   support\n",
            "\n",
            "           1       0.90      0.91      0.91      5246\n",
            "           2       0.82      0.81      0.82      5300\n",
            "           3       0.77      0.71      0.74      5257\n",
            "           4       0.70      0.66      0.68      5204\n",
            "           5       0.76      0.87      0.81      5242\n",
            "\n",
            "    accuracy                           0.79     26249\n",
            "   macro avg       0.79      0.79      0.79     26249\n",
            "weighted avg       0.79      0.79      0.79     26249\n",
            "\n"
          ],
          "name": "stdout"
        }
      ]
    },
    {
      "cell_type": "markdown",
      "metadata": {
        "id": "jzLw1eHEf2VA"
      },
      "source": [
        "From the confusion matrix, we can see that the model is good at predicting score of realtively health users. but when it comes to unhealthy users. it isn't that great. Further tuning can be done to help predict user health score of 4 or 5."
      ]
    },
    {
      "cell_type": "markdown",
      "metadata": {
        "id": "OYjsFESTf3Rs"
      },
      "source": [
        ""
      ]
    },
    {
      "cell_type": "code",
      "metadata": {
        "colab": {
          "base_uri": "https://localhost:8080/"
        },
        "id": "XIzziM7thufX",
        "outputId": "1ead5484-4579-491e-a2ed-879c6e39b25a"
      },
      "source": [
        "from pprint import pprint\n",
        "print('Parameters currently in use:\\n')\n",
        "pprint(rfc.get_params())"
      ],
      "execution_count": null,
      "outputs": [
        {
          "output_type": "stream",
          "text": [
            "Parameters currently in use:\n",
            "\n",
            "{'bootstrap': True,\n",
            " 'ccp_alpha': 0.0,\n",
            " 'class_weight': None,\n",
            " 'criterion': 'gini',\n",
            " 'max_depth': None,\n",
            " 'max_features': 'auto',\n",
            " 'max_leaf_nodes': None,\n",
            " 'max_samples': None,\n",
            " 'min_impurity_decrease': 0.0,\n",
            " 'min_impurity_split': None,\n",
            " 'min_samples_leaf': 1,\n",
            " 'min_samples_split': 2,\n",
            " 'min_weight_fraction_leaf': 0.0,\n",
            " 'n_estimators': 100,\n",
            " 'n_jobs': None,\n",
            " 'oob_score': False,\n",
            " 'random_state': None,\n",
            " 'verbose': 0,\n",
            " 'warm_start': False}\n"
          ],
          "name": "stdout"
        }
      ]
    },
    {
      "cell_type": "code",
      "metadata": {
        "colab": {
          "base_uri": "https://localhost:8080/"
        },
        "id": "rFyhAeMkhxY7",
        "outputId": "d2806d67-7844-40cc-dec0-d2d188f222ac"
      },
      "source": [
        "from sklearn.model_selection import RandomizedSearchCV\n",
        "n_estimators = [int(x) for x in np.linspace(start = 200, stop = 2000, num = 10)]\n",
        "max_depth = [int(x) for x in np.linspace(10, 110, num = 11)]\n",
        "max_depth.append(None)\n",
        "min_samples_split = [2, 5, 10]\n",
        "min_samples_leaf = [1, 2, 4]\n",
        "random_grid = {'n_estimators': n_estimators,\n",
        "               'max_depth': max_depth,\n",
        "               'min_samples_split': min_samples_split,\n",
        "               'min_samples_leaf': min_samples_leaf,}\n",
        "pprint(random_grid)"
      ],
      "execution_count": null,
      "outputs": [
        {
          "output_type": "stream",
          "text": [
            "{'max_depth': [10, 20, 30, 40, 50, 60, 70, 80, 90, 100, 110, None],\n",
            " 'min_samples_leaf': [1, 2, 4],\n",
            " 'min_samples_split': [2, 5, 10],\n",
            " 'n_estimators': [200, 400, 600, 800, 1000, 1200, 1400, 1600, 1800, 2000]}\n"
          ],
          "name": "stdout"
        }
      ]
    },
    {
      "cell_type": "code",
      "metadata": {
        "id": "VQ6q_KESkgZ2"
      },
      "source": [
        "gridF = GridSearchCV(rfc,random_grid,cv=2,verbose=1,n_jobs=-1)"
      ],
      "execution_count": null,
      "outputs": []
    },
    {
      "cell_type": "code",
      "metadata": {
        "id": "7u2t7_GM5Ct6"
      },
      "source": [
        "bestF = gridF.fit(X_train,y_train)"
      ],
      "execution_count": null,
      "outputs": []
    },
    {
      "cell_type": "code",
      "metadata": {
        "id": "gEQIlHBTywiZ"
      },
      "source": [
        "opt = RandomForestClassifier(random_state=1,max_depth=30,n_estimators=500,min_samples_split=2,min_samples_leaf=2)"
      ],
      "execution_count": null,
      "outputs": []
    },
    {
      "cell_type": "code",
      "metadata": {
        "id": "BEtYK4-O0TSA"
      },
      "source": [
        "modelopt = opt.fit(X_train,y_train)"
      ],
      "execution_count": null,
      "outputs": []
    },
    {
      "cell_type": "code",
      "metadata": {
        "id": "hEOuLsL50ZfZ"
      },
      "source": [
        "y_pred = modelopt.predict(X_test)"
      ],
      "execution_count": null,
      "outputs": []
    },
    {
      "cell_type": "code",
      "metadata": {
        "colab": {
          "base_uri": "https://localhost:8080/"
        },
        "id": "AVrtWf0J08qm",
        "outputId": "b6fe1bbe-ac06-4e0c-ef42-ca580040c6df"
      },
      "source": [
        "accuracy_score(y_test,y_pred)"
      ],
      "execution_count": null,
      "outputs": [
        {
          "output_type": "execute_result",
          "data": {
            "text/plain": [
              "0.7952525252525252"
            ]
          },
          "metadata": {
            "tags": []
          },
          "execution_count": 89
        }
      ]
    },
    {
      "cell_type": "code",
      "metadata": {
        "id": "JhX0pQRG1rWr"
      },
      "source": [
        ""
      ],
      "execution_count": null,
      "outputs": []
    }
  ]
}