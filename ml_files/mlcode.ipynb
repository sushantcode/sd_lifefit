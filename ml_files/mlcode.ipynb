{
 "cells": [
  {
   "cell_type": "code",
   "execution_count": 79,
   "id": "42d61193",
   "metadata": {},
   "outputs": [],
   "source": [
    "import boto3, re, sys, math, json, os, sagemaker, urllib.request\n",
    "from sagemaker import get_execution_role\n",
    "import numpy as np\n",
    "import pandas as pd\n",
    "import matplotlib.pyplot as plt\n",
    "from IPython.display import Image\n",
    "from IPython.display import display\n",
    "from time import gmtime, strftime\n",
    "from sagemaker.predictor import csv_serializer"
   ]
  },
  {
   "cell_type": "code",
   "execution_count": 80,
   "id": "837992d2",
   "metadata": {},
   "outputs": [
    {
     "name": "stdout",
     "output_type": "stream",
     "text": [
      "Requirement already satisfied: scikit-learn==0.22.2.post1 in /home/ec2-user/anaconda3/envs/python3/lib/python3.6/site-packages (0.22.2.post1)\n",
      "Requirement already satisfied: numpy>=1.11.0 in /home/ec2-user/anaconda3/envs/python3/lib/python3.6/site-packages (from scikit-learn==0.22.2.post1) (1.19.5)\n",
      "Requirement already satisfied: scipy>=0.17.0 in /home/ec2-user/anaconda3/envs/python3/lib/python3.6/site-packages (from scikit-learn==0.22.2.post1) (1.5.3)\n",
      "Requirement already satisfied: joblib>=0.11 in /home/ec2-user/anaconda3/envs/python3/lib/python3.6/site-packages (from scikit-learn==0.22.2.post1) (1.0.1)\n",
      "\u001b[33mWARNING: You are using pip version 21.1.2; however, version 21.1.3 is available.\n",
      "You should consider upgrading via the '/home/ec2-user/anaconda3/envs/python3/bin/python -m pip install --upgrade pip' command.\u001b[0m\n",
      "Note: you may need to restart the kernel to use updated packages.\n"
     ]
    }
   ],
   "source": [
    "pip install scikit-learn==0.22.2.post1"
   ]
  },
  {
   "cell_type": "code",
   "execution_count": 81,
   "id": "6900a241",
   "metadata": {},
   "outputs": [
    {
     "name": "stdout",
     "output_type": "stream",
     "text": [
      "Requirement already satisfied: pickle5 in /home/ec2-user/anaconda3/envs/python3/lib/python3.6/site-packages (0.0.11)\n",
      "\u001b[33mWARNING: You are using pip version 21.1.2; however, version 21.1.3 is available.\n",
      "You should consider upgrading via the '/home/ec2-user/anaconda3/envs/python3/bin/python -m pip install --upgrade pip' command.\u001b[0m\n"
     ]
    }
   ],
   "source": [
    "!pip install pickle5"
   ]
  },
  {
   "cell_type": "code",
   "execution_count": 82,
   "id": "d22de3cc",
   "metadata": {},
   "outputs": [],
   "source": [
    "import numpy as np\n",
    "import pandas as pd\n",
    "from sklearn.tree import DecisionTreeClassifier\n",
    "import numpy as np\n",
    "import pandas as pd\n",
    "import seaborn as sns\n",
    "from matplotlib import pyplot as plt\n",
    "from sklearn.model_selection import train_test_split\n",
    "from sklearn import metrics\n",
    "from sklearn.linear_model import LogisticRegression\n",
    "from sklearn.metrics import confusion_matrix, recall_score, precision_score, f1_score, roc_auc_score,accuracy_score\n",
    "from sklearn.metrics import precision_recall_fscore_support\n",
    "from sklearn.model_selection import GridSearchCV\n",
    "from sklearn.ensemble import BaggingClassifier\n",
    "from sklearn.tree import export_graphviz\n",
    "from sklearn.ensemble import AdaBoostClassifier\n",
    "from sklearn.ensemble import RandomForestClassifier\n",
    "from sklearn.linear_model import LogisticRegression\n",
    "from sklearn.neighbors import KNeighborsClassifier\n",
    "from sklearn.naive_bayes import GaussianNB\n",
    "from sklearn.naive_bayes import CategoricalNB\n",
    "from sklearn.model_selection import RandomizedSearchCV\n",
    "from sklearn.model_selection import cross_val_score\n",
    "from sklearn.model_selection import KFold\n",
    "import pickle5 as pickle\n",
    "from joblib import load"
   ]
  },
  {
   "cell_type": "code",
   "execution_count": 83,
   "id": "d4b60f58",
   "metadata": {},
   "outputs": [],
   "source": [
    "bucket = 'mlbucketstatefarm'\n",
    "subfolder = ''"
   ]
  },
  {
   "cell_type": "code",
   "execution_count": 84,
   "id": "bfcac2e3",
   "metadata": {},
   "outputs": [],
   "source": [
    "from sagemaker import get_execution_role\n",
    "role = get_execution_role()"
   ]
  },
  {
   "cell_type": "code",
   "execution_count": 85,
   "id": "1e263c8a",
   "metadata": {},
   "outputs": [
    {
     "data": {
      "text/plain": [
       "'arn:aws:iam::860877260700:role/service-role/AmazonSageMaker-ExecutionRole-20210708T164937'"
      ]
     },
     "execution_count": 85,
     "metadata": {},
     "output_type": "execute_result"
    }
   ],
   "source": [
    "role"
   ]
  },
  {
   "cell_type": "code",
   "execution_count": 86,
   "id": "d22736d3",
   "metadata": {},
   "outputs": [
    {
     "name": "stdout",
     "output_type": "stream",
     "text": [
      "Date_2021-05-07_User_id_218817_fitbitdata.csv\n",
      "Date_2021-05-07_User_id_218817_hourlydata.csv\n",
      "Date_2021-05-07_User_id_218817_sleepdata.csv\n",
      "data_train_model.csv\n",
      "fitbit_realworld_und.csv\n",
      "rfc_model_saved.sav\n",
      "saved_scale.sav\n"
     ]
    }
   ],
   "source": [
    "conn = boto3.client('s3')\n",
    "contents = conn.list_objects(Bucket=bucket, Prefix=subfolder)['Contents']\n",
    "files = []\n",
    "for f in contents:\n",
    "    print(f['Key'])\n",
    "    files.append(f)"
   ]
  },
  {
   "cell_type": "code",
   "execution_count": 87,
   "id": "55f86e31",
   "metadata": {},
   "outputs": [],
   "source": [
    "bucket='mlbucketstatefarm'\n",
    "data_key = 'rfc_model_saved.sav'\n",
    "data_location = 's3://{}/{}'.format(bucket, data_key)"
   ]
  },
  {
   "cell_type": "markdown",
   "id": "d00fb39d",
   "metadata": {},
   "source": [
    "# from s3fs.core import S3FileSystem\n",
    "s3_file = S3FileSystem()\n",
    "\n",
    "loaded_model = pickle.load(open(data_location,'rb'))"
   ]
  },
  {
   "cell_type": "code",
   "execution_count": 88,
   "id": "f3b82fa3",
   "metadata": {},
   "outputs": [],
   "source": [
    "from io import BytesIO\n",
    "def read_joblib(path):\n",
    "    ''' \n",
    "       Function to load a joblib file from an s3 bucket or local directory.\n",
    "       Arguments:\n",
    "       * path: an s3 bucket or local directory path where the file is stored\n",
    "       Outputs:\n",
    "       * file: Joblib file loaded\n",
    "    '''\n",
    "\n",
    "    # Path is an s3 bucket\n",
    "    if path[:5] == 's3://':\n",
    "        s3_bucket, s3_key = path.split('/')[2], path.split('/')[3:]\n",
    "        s3_key = '/'.join(s3_key)\n",
    "        with BytesIO() as f:\n",
    "            boto3.client(\"s3\").download_fileobj(Bucket=s3_bucket, Key=s3_key, Fileobj=f)\n",
    "            f.seek(0)\n",
    "            file = pickle.load(f)\n",
    "    \n",
    "    # Path is a local directory \n",
    "    else:\n",
    "        with open(path, 'rb') as f:\n",
    "            file = pickle.load(f)\n",
    "    \n",
    "    return file"
   ]
  },
  {
   "cell_type": "code",
   "execution_count": 89,
   "id": "8081fb3a",
   "metadata": {},
   "outputs": [],
   "source": [
    "ml_model = read_joblib(data_location)"
   ]
  },
  {
   "cell_type": "code",
   "execution_count": 90,
   "id": "e12202a3",
   "metadata": {},
   "outputs": [
    {
     "data": {
      "text/plain": [
       "RandomForestClassifier(bootstrap=True, ccp_alpha=0.0, class_weight=None,\n",
       "                       criterion='gini', max_depth=None, max_features='auto',\n",
       "                       max_leaf_nodes=None, max_samples=None,\n",
       "                       min_impurity_decrease=0.0, min_impurity_split=None,\n",
       "                       min_samples_leaf=1, min_samples_split=2,\n",
       "                       min_weight_fraction_leaf=0.0, n_estimators=100,\n",
       "                       n_jobs=None, oob_score=False, random_state=None,\n",
       "                       verbose=0, warm_start=False)"
      ]
     },
     "execution_count": 90,
     "metadata": {},
     "output_type": "execute_result"
    }
   ],
   "source": [
    "ml_model"
   ]
  },
  {
   "cell_type": "code",
   "execution_count": 13,
   "id": "58d535e9",
   "metadata": {},
   "outputs": [],
   "source": [
    "from io import BytesIO\n",
    "import joblib\n",
    "\n",
    "bytes_container = BytesIO()\n",
    "joblib.dump(ml_model, bytes_container)\n",
    "bytes_container.seek(0)  # update to enable reading\n",
    "\n",
    "bytes_model = bytes_container.read()"
   ]
  },
  {
   "cell_type": "code",
   "execution_count": null,
   "id": "bbd2e627",
   "metadata": {},
   "outputs": [],
   "source": []
  },
  {
   "cell_type": "code",
   "execution_count": 91,
   "id": "de9faf56",
   "metadata": {},
   "outputs": [],
   "source": [
    "csv_bucket = 'mobilebucket'\n",
    "from sagemaker import get_execution_role\n",
    "role2 = get_execution_role()"
   ]
  },
  {
   "cell_type": "code",
   "execution_count": 92,
   "id": "ec95310b",
   "metadata": {},
   "outputs": [],
   "source": [
    "conn2 = boto3.client('s3')\n",
    "contents = conn.list_objects(Bucket=csv_bucket, Prefix=subfolder)['Contents']\n",
    "files_csv = []\n",
    "for f in contents:\n",
    "    #print(f['Key'])\n",
    "    files_csv.append(f)\n",
    "\n",
    "file_names = []\n",
    "\n",
    "user_ids_dupe = []\n",
    "for files in files_csv:\n",
    "    file_name = files['Key']\n",
    "    if \"User_id\" in file_name:\n",
    "        temp = file_name.split(\"_\")\n",
    "\n",
    "        if (len(temp[4]) == 36):\n",
    "            user_ids_dupe.append(temp[4])\n",
    "\n"
   ]
  },
  {
   "cell_type": "code",
   "execution_count": 93,
   "id": "65d51b49",
   "metadata": {},
   "outputs": [
    {
     "name": "stdout",
     "output_type": "stream",
     "text": [
      "['2cb32af6-acd1-43e1-91fe-db8e3b695ff5', '64024193-0c29-484e-834c-ca4570acedd0']\n"
     ]
    },
    {
     "data": {
      "text/plain": [
       "['2cb32af6-acd1-43e1-91fe-db8e3b695ff5']"
      ]
     },
     "execution_count": 93,
     "metadata": {},
     "output_type": "execute_result"
    }
   ],
   "source": [
    "user_ids = []\n",
    "for id in user_ids_dupe:\n",
    "       if id not in user_ids:\n",
    "          user_ids.append(id)\n",
    "print(user_ids)\n",
    "user_ids[1] = '99fbff10-824b-4370-977e-4f435dd9d39d'\n",
    "user_ids.pop()\n",
    "user_ids"
   ]
  },
  {
   "cell_type": "code",
   "execution_count": 94,
   "id": "140a6fd8",
   "metadata": {},
   "outputs": [],
   "source": [
    "s3 = boto3.resource('s3') \n",
    "the_bucket = s3.Bucket('mobilebucket')"
   ]
  },
  {
   "cell_type": "code",
   "execution_count": 95,
   "id": "7ae44675",
   "metadata": {},
   "outputs": [],
   "source": [
    "num_data_fitbit = 0\n",
    "num_data_hourly = 0\n",
    "avg_calories = 0\n",
    "avg_calories_mets = 0\n",
    "avg_steps = 0\n",
    "avg_distance = 0\n",
    "avg_floors = 0\n",
    "avg_elevation = 0\n",
    "avg_heart_rate = 0\n",
    "avg_sleep_score = 0"
   ]
  },
  {
   "cell_type": "code",
   "execution_count": 96,
   "id": "adc8b857",
   "metadata": {},
   "outputs": [],
   "source": [
    "dynamodb = boto3.resource('dynamodb')\n",
    "table = dynamodb.Table('UserDetails-y243fkkjqreqpiwavsqlwjf62a-dev')"
   ]
  },
  {
   "cell_type": "code",
   "execution_count": 97,
   "id": "08b3c819",
   "metadata": {},
   "outputs": [],
   "source": [
    "in_table = table.scan()"
   ]
  },
  {
   "cell_type": "code",
   "execution_count": 98,
   "id": "1781f475",
   "metadata": {},
   "outputs": [],
   "source": [
    "class DecimalEncoder(json.JSONEncoder):\n",
    "    def default(self, o):\n",
    "        if isinstance(o, decimal.Decimal):\n",
    "            if o % 1 > 0:\n",
    "                return float(o)\n",
    "            else:\n",
    "                return int(o)\n",
    "        return super(DecimalEncoder, self).default(o)"
   ]
  },
  {
   "cell_type": "code",
   "execution_count": 99,
   "id": "94e9de0a",
   "metadata": {},
   "outputs": [
    {
     "data": {
      "text/plain": [
       "[22]"
      ]
     },
     "execution_count": 99,
     "metadata": {},
     "output_type": "execute_result"
    }
   ],
   "source": [
    "ages_for_users = []\n",
    "import decimal\n",
    "for i in in_table['Items']:    \n",
    "    for ui in user_ids:\n",
    "        if ui == i['id']:\n",
    "            #print(i['age'])\n",
    "            ages_for_users.append(int(i['age']))\n",
    "ages_for_users"
   ]
  },
  {
   "cell_type": "code",
   "execution_count": 101,
   "id": "3537e212",
   "metadata": {},
   "outputs": [
    {
     "name": "stdout",
     "output_type": "stream",
     "text": [
      "d1 = 2021-07-09\n",
      "Date_2021-07-09_User_id_2cb32af6-acd1-43e1-91fe-db8e3b695ff5_fitbitdata.csv\n",
      "in else\n",
      "2cb32af6-acd1-43e1-91fe-db8e3b695ff5,22,782.0,4.81875,187.0,0.12940000370144844,0.0,0.0,13.8125\n",
      "User id 2cb32af6-acd1-43e1-91fe-db8e3b695ff5 Health score : 1\n"
     ]
    }
   ],
   "source": [
    "from datetime import date\n",
    "today = date.today()\n",
    "d1 = today.strftime(\"%Y-%m-%d\")\n",
    "print(\"d1 =\", d1)\n",
    "results = []\n",
    "import io\n",
    "import pprint as pp\n",
    "for userid in user_ids:\n",
    "    for obj in the_bucket.objects.all():\n",
    "        key = obj.key\n",
    "        body = obj.get()['Body'].read()\n",
    "        if((str(str(userid)+'_fitbitdata') in key) and (d1 in key)):\n",
    "            print(key)\n",
    "            summary = pd.read_csv(io.BytesIO(body), encoding='utf8')\n",
    "            calories = summary.at[0,'caloriesOut']\n",
    "            sleep_score = summary.at[0,'efficiency']\n",
    "            # compute running total\n",
    "            num_data_fitbit = num_data_fitbit + 1\n",
    "            avg_calories = avg_calories + calories\n",
    "            avg_sleep_score = avg_sleep_score + sleep_score\n",
    "\n",
    "        if(str(str(userid)+'_hourlydata') in key and (d1 in key)):\n",
    "            hourly = pd.read_csv(io.BytesIO(body), encoding='utf8')\n",
    "            calories_mets = hourly['caloriesMets'].sum() / (96 * 15)\n",
    "            steps = hourly['steps'].sum()\n",
    "            distance = hourly['distance'].sum()\n",
    "            floors = hourly['floors'].sum()\n",
    "            elevation = hourly['elevation'].sum()\n",
    "            try:\n",
    "                heart_rate = hourly['heartRate'].sum() / 96\n",
    "            except:\n",
    "                heart_rate = 0\n",
    "            # compute running total\n",
    "            num_data_hourly = num_data_hourly + 1\n",
    "            avg_calories_mets = avg_calories_mets + calories_mets\n",
    "            avg_steps = avg_steps + steps\n",
    "            avg_distance = avg_distance + distance\n",
    "            avg_floors = avg_floors + floors\n",
    "            avg_elevation = avg_elevation + elevation\n",
    "            avg_heart_rate = avg_heart_rate + heart_rate\n",
    "\n",
    "        # compute averages\n",
    "    if(num_data_fitbit == 0 or num_data_hourly == 0):\n",
    "        print(\"in if\")\n",
    "        temp_1 = 1\n",
    "        avg_calories = avg_calories /temp_1\n",
    "        avg_calories_mets = avg_calories_mets /  temp_1 \n",
    "        avg_steps = avg_steps /  temp_1 \n",
    "        avg_distance = avg_distance /  temp_1 \n",
    "        avg_floors = avg_floors /  temp_1 \n",
    "        avg_elevation = avg_elevation /  temp_1 \n",
    "        avg_heart_rate = avg_heart_rate /  temp_1 \n",
    "        avg_sleep_score = avg_sleep_score /  temp_1 \n",
    "        \n",
    "    else:\n",
    "        print(\"in else\")\n",
    "        avg_calories = avg_calories / num_data_fitbit\n",
    "        avg_calories_mets = avg_calories_mets / num_data_hourly\n",
    "        avg_steps = avg_steps / num_data_hourly\n",
    "        avg_distance = avg_distance / num_data_hourly\n",
    "        avg_floors = avg_floors / num_data_hourly\n",
    "        avg_elevation = avg_elevation / num_data_hourly\n",
    "        avg_heart_rate = avg_heart_rate / num_data_hourly\n",
    "        avg_sleep_score = avg_sleep_score / num_data_fitbit\n",
    "        \n",
    "    for age in ages_for_users:\n",
    "        print(\"{},{},{},{},{},{},{},{},{}\".format(userid,age, avg_calories, avg_calories_mets, avg_steps, avg_distance, avg_floors, avg_elevation, avg_heart_rate, avg_sleep_score))\n",
    "        temp_list = [age, avg_calories, avg_calories_mets, avg_steps, avg_distance, avg_floors, avg_elevation, avg_heart_rate, avg_sleep_score]   \n",
    "        x = np.array([temp_list])\n",
    "        result = int(ml_model.predict(x))\n",
    "        results.append(result)\n",
    "    \n",
    "    print(\"User id {} Health score : {}\".format(userid,str(result)))\n",
    "    # age, avg_calories, avg_calories_mets, avg_steps, avg_distance, avg_floors, avg_elevation, avg_heart_rate, avg_sleep_score\n",
    "\n",
    "health_score = pd.DataFrame({'userid': user_ids,'healthscore': results})\n",
    "\n"
   ]
  },
  {
   "cell_type": "code",
   "execution_count": 102,
   "id": "aaa7bb76",
   "metadata": {},
   "outputs": [
    {
     "data": {
      "text/html": [
       "<div>\n",
       "<style scoped>\n",
       "    .dataframe tbody tr th:only-of-type {\n",
       "        vertical-align: middle;\n",
       "    }\n",
       "\n",
       "    .dataframe tbody tr th {\n",
       "        vertical-align: top;\n",
       "    }\n",
       "\n",
       "    .dataframe thead th {\n",
       "        text-align: right;\n",
       "    }\n",
       "</style>\n",
       "<table border=\"1\" class=\"dataframe\">\n",
       "  <thead>\n",
       "    <tr style=\"text-align: right;\">\n",
       "      <th></th>\n",
       "      <th>userid</th>\n",
       "      <th>healthscore</th>\n",
       "    </tr>\n",
       "  </thead>\n",
       "  <tbody>\n",
       "    <tr>\n",
       "      <th>0</th>\n",
       "      <td>2cb32af6-acd1-43e1-91fe-db8e3b695ff5</td>\n",
       "      <td>1</td>\n",
       "    </tr>\n",
       "  </tbody>\n",
       "</table>\n",
       "</div>"
      ],
      "text/plain": [
       "                                 userid  healthscore\n",
       "0  2cb32af6-acd1-43e1-91fe-db8e3b695ff5            1"
      ]
     },
     "execution_count": 102,
     "metadata": {},
     "output_type": "execute_result"
    }
   ],
   "source": [
    "health_score"
   ]
  },
  {
   "cell_type": "code",
   "execution_count": 112,
   "id": "4349cc2e",
   "metadata": {},
   "outputs": [
    {
     "name": "stdout",
     "output_type": "stream",
     "text": [
      "2cb32af6-acd1-43e1-91fe-db8e3b695ff5 1\n"
     ]
    }
   ],
   "source": [
    "import boto3\n",
    "\n",
    "table_update = boto3.resource('dynamodb').Table('UserDetails-y243fkkjqreqpiwavsqlwjf62a-dev')\n",
    "for index,row in health_score.iterrows():\n",
    "    print(row['userid'],row['healthscore'])\n",
    "\n",
    "    # get item\n",
    "    response = table.get_item(Key={'id': str(row['userid'])})\n",
    "    item = response['Item']\n",
    "\n",
    "    # update\n",
    "    item['score'] = 4\n",
    "\n",
    "    # put (idempotent)\n",
    "    table.put_item(Item=item)"
   ]
  },
  {
   "cell_type": "code",
   "execution_count": null,
   "id": "f822e005",
   "metadata": {},
   "outputs": [],
   "source": []
  }
 ],
 "metadata": {
  "celltoolbar": "Raw Cell Format",
  "kernelspec": {
   "display_name": "conda_python3",
   "language": "python",
   "name": "conda_python3"
  },
  "language_info": {
   "codemirror_mode": {
    "name": "ipython",
    "version": 3
   },
   "file_extension": ".py",
   "mimetype": "text/x-python",
   "name": "python",
   "nbconvert_exporter": "python",
   "pygments_lexer": "ipython3",
   "version": "3.6.13"
  }
 },
 "nbformat": 4,
 "nbformat_minor": 5
}
