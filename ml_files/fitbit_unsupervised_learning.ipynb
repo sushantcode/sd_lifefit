{
  "nbformat": 4,
  "nbformat_minor": 0,
  "metadata": {
    "colab": {
      "name": "fitbit_unsupervised_learning.ipynb",
      "provenance": [],
      "collapsed_sections": []
    },
    "kernelspec": {
      "name": "python3",
      "display_name": "Python 3"
    },
    "language_info": {
      "name": "python"
    }
  },
  "cells": [
    {
      "cell_type": "markdown",
      "metadata": {
        "id": "g7qq_O2kmntz"
      },
      "source": [
        "Import Necessary Libraries"
      ]
    },
    {
      "cell_type": "code",
      "metadata": {
        "id": "_5vMk9ZZA7uZ"
      },
      "source": [
        "import numpy as np\n",
        "import pandas as pd\n",
        "from sklearn.tree import DecisionTreeClassifier\n",
        "import numpy as np\n",
        "import pandas as pd\n",
        "import seaborn as sns\n",
        "from matplotlib import pyplot as plt\n",
        "from sklearn.model_selection import train_test_split\n",
        "from sklearn import metrics\n",
        "from sklearn.linear_model import LogisticRegression\n",
        "from sklearn.metrics import confusion_matrix, recall_score, precision_score, f1_score, roc_auc_score,accuracy_score\n",
        "from sklearn.metrics import precision_recall_fscore_support\n",
        "from sklearn.model_selection import GridSearchCV\n",
        "from sklearn.ensemble import BaggingClassifier\n",
        "from sklearn.tree import export_graphviz\n",
        "from sklearn.ensemble import AdaBoostClassifier\n",
        "from sklearn.ensemble import RandomForestClassifier\n",
        "from sklearn.linear_model import LogisticRegression\n",
        "from sklearn.neighbors import KNeighborsClassifier\n",
        "from sklearn.naive_bayes import GaussianNB\n",
        "from sklearn.naive_bayes import CategoricalNB\n",
        "from sklearn.model_selection import RandomizedSearchCV\n",
        "from sklearn.model_selection import cross_val_score\n",
        "from sklearn.model_selection import KFold"
      ],
      "execution_count": 2,
      "outputs": []
    },
    {
      "cell_type": "markdown",
      "metadata": {
        "id": "hcTEKdeWmsUF"
      },
      "source": [
        "Read CSV file into dataframe, display infor of each column and some basic metrics of the data."
      ]
    },
    {
      "cell_type": "code",
      "metadata": {
        "id": "m2gGYDRQCST9"
      },
      "source": [
        "fitbit_df = pd.read_csv('/content/sample_data/FitbitActivity(1-30-20).csv')"
      ],
      "execution_count": 20,
      "outputs": []
    },
    {
      "cell_type": "code",
      "metadata": {
        "id": "fLu-3ABmCcxC",
        "colab": {
          "base_uri": "https://localhost:8080/"
        },
        "outputId": "cb581944-792c-40d5-9a9a-c4fb0330d7b7"
      },
      "source": [
        "print(fitbit_df.info())\n",
        "pd.set_option('display.max_columns', None)\n",
        "print(fitbit_df.head(5))"
      ],
      "execution_count": 5,
      "outputs": [
        {
          "output_type": "stream",
          "text": [
            "<class 'pandas.core.frame.DataFrame'>\n",
            "RangeIndex: 357827 entries, 0 to 357826\n",
            "Data columns (total 19 columns):\n",
            " #   Column                Non-Null Count   Dtype  \n",
            "---  ------                --------------   -----  \n",
            " 0   egoid                 357827 non-null  int64  \n",
            " 1   datadate              357827 non-null  object \n",
            " 2   complypercent         357827 non-null  int64  \n",
            " 3   meanrate              357827 non-null  float64\n",
            " 4   sdrate                357826 non-null  float64\n",
            " 5   steps                 356751 non-null  float64\n",
            " 6   floors                356927 non-null  float64\n",
            " 7   sedentaryminutes      355844 non-null  float64\n",
            " 8   lightlyactiveminutes  355844 non-null  float64\n",
            " 9   fairlyactiveminutes   357823 non-null  float64\n",
            " 10  veryactiveminutes     355844 non-null  float64\n",
            " 11  lowrangemins          357827 non-null  int64  \n",
            " 12  fatburnmins           357827 non-null  int64  \n",
            " 13  cardiomins            357827 non-null  int64  \n",
            " 14  peakmins              357827 non-null  int64  \n",
            " 15  lowrangecal           357827 non-null  float64\n",
            " 16  fatburncal            357827 non-null  float64\n",
            " 17  cardiocal             357827 non-null  float64\n",
            " 18  peakcal               357827 non-null  float64\n",
            "dtypes: float64(12), int64(6), object(1)\n",
            "memory usage: 51.9+ MB\n",
            "None\n",
            "   egoid    datadate  complypercent    meanrate     sdrate   steps  floors  \\\n",
            "0  44869  2015-07-28             91   86.669746  11.979352  4034.0     1.0   \n",
            "1  44869  2015-07-29             97   87.975342   8.990446  3702.0     0.0   \n",
            "2  44869  2015-07-30            100   83.281448  16.863153  3660.0     0.0   \n",
            "3  44869  2015-07-31             80   91.707787  12.464956  6016.0    13.0   \n",
            "4  44869  2015-08-01             78  101.268140  10.464320  9846.0     5.0   \n",
            "\n",
            "   sedentaryminutes  lightlyactiveminutes  fairlyactiveminutes  \\\n",
            "0            1034.0                 149.0                  2.0   \n",
            "1             769.0                 153.0                  0.0   \n",
            "2             795.0                 139.0                  3.0   \n",
            "3             954.0                 259.0                  0.0   \n",
            "4            1078.0                 282.0                 24.0   \n",
            "\n",
            "   veryactiveminutes  lowrangemins  fatburnmins  cardiomins  peakmins  \\\n",
            "0               12.0          1211           75           9         4   \n",
            "1                0.0          1273          103           3         0   \n",
            "2               18.0          1267          109          15        16   \n",
            "3                0.0           846          295           2         0   \n",
            "4                8.0           628          502           0         0   \n",
            "\n",
            "   lowrangecal  fatburncal  cardiocal    peakcal  \n",
            "0   1364.19900   159.79671  61.841969   35.46954  \n",
            "1   1322.14650   262.28818  11.997700    0.00000  \n",
            "2   1288.98170   232.89841  77.910057  127.26234  \n",
            "3    954.04791   629.57526   2.224320    0.00000  \n",
            "4    702.88513  1080.83410   0.000000    0.00000  \n"
          ],
          "name": "stdout"
        }
      ]
    },
    {
      "cell_type": "code",
      "metadata": {
        "id": "ptFeXAMfDBCs",
        "colab": {
          "base_uri": "https://localhost:8080/",
          "height": 607
        },
        "outputId": "3c8f862a-f322-4acd-d4a1-2c23c88fe33c"
      },
      "source": [
        "fitbit_df.describe().transpose()\n",
        "#Some individuals in this study started participating in the study a bit late. So that's why some \n",
        "#rows-columns values are missing. This will be replaced by mean or median."
      ],
      "execution_count": 6,
      "outputs": [
        {
          "output_type": "execute_result",
          "data": {
            "text/html": [
              "<div>\n",
              "<style scoped>\n",
              "    .dataframe tbody tr th:only-of-type {\n",
              "        vertical-align: middle;\n",
              "    }\n",
              "\n",
              "    .dataframe tbody tr th {\n",
              "        vertical-align: top;\n",
              "    }\n",
              "\n",
              "    .dataframe thead th {\n",
              "        text-align: right;\n",
              "    }\n",
              "</style>\n",
              "<table border=\"1\" class=\"dataframe\">\n",
              "  <thead>\n",
              "    <tr style=\"text-align: right;\">\n",
              "      <th></th>\n",
              "      <th>count</th>\n",
              "      <th>mean</th>\n",
              "      <th>std</th>\n",
              "      <th>min</th>\n",
              "      <th>25%</th>\n",
              "      <th>50%</th>\n",
              "      <th>75%</th>\n",
              "      <th>max</th>\n",
              "    </tr>\n",
              "  </thead>\n",
              "  <tbody>\n",
              "    <tr>\n",
              "      <th>egoid</th>\n",
              "      <td>357827.0</td>\n",
              "      <td>56376.037180</td>\n",
              "      <td>25759.271748</td>\n",
              "      <td>10237.000000</td>\n",
              "      <td>33740.000000</td>\n",
              "      <td>56543.000000</td>\n",
              "      <td>79167.000000</td>\n",
              "      <td>99978.000000</td>\n",
              "    </tr>\n",
              "    <tr>\n",
              "      <th>complypercent</th>\n",
              "      <td>357827.0</td>\n",
              "      <td>85.228499</td>\n",
              "      <td>22.456762</td>\n",
              "      <td>1.000000</td>\n",
              "      <td>83.000000</td>\n",
              "      <td>96.000000</td>\n",
              "      <td>98.000000</td>\n",
              "      <td>100.000000</td>\n",
              "    </tr>\n",
              "    <tr>\n",
              "      <th>meanrate</th>\n",
              "      <td>357827.0</td>\n",
              "      <td>74.001024</td>\n",
              "      <td>9.594119</td>\n",
              "      <td>40.174862</td>\n",
              "      <td>67.280514</td>\n",
              "      <td>73.469315</td>\n",
              "      <td>80.047359</td>\n",
              "      <td>190.721850</td>\n",
              "    </tr>\n",
              "    <tr>\n",
              "      <th>sdrate</th>\n",
              "      <td>357826.0</td>\n",
              "      <td>15.430787</td>\n",
              "      <td>4.220816</td>\n",
              "      <td>0.000000</td>\n",
              "      <td>12.597967</td>\n",
              "      <td>15.047787</td>\n",
              "      <td>17.926842</td>\n",
              "      <td>66.399506</td>\n",
              "    </tr>\n",
              "    <tr>\n",
              "      <th>steps</th>\n",
              "      <td>356751.0</td>\n",
              "      <td>11051.223360</td>\n",
              "      <td>5873.476411</td>\n",
              "      <td>4.000000</td>\n",
              "      <td>6948.000000</td>\n",
              "      <td>10592.000000</td>\n",
              "      <td>14458.000000</td>\n",
              "      <td>87677.000000</td>\n",
              "    </tr>\n",
              "    <tr>\n",
              "      <th>floors</th>\n",
              "      <td>356927.0</td>\n",
              "      <td>17.236592</td>\n",
              "      <td>19.416539</td>\n",
              "      <td>0.000000</td>\n",
              "      <td>7.000000</td>\n",
              "      <td>13.000000</td>\n",
              "      <td>21.000000</td>\n",
              "      <td>670.000000</td>\n",
              "    </tr>\n",
              "    <tr>\n",
              "      <th>sedentaryminutes</th>\n",
              "      <td>355844.0</td>\n",
              "      <td>798.992190</td>\n",
              "      <td>265.477736</td>\n",
              "      <td>0.000000</td>\n",
              "      <td>631.000000</td>\n",
              "      <td>728.000000</td>\n",
              "      <td>871.000000</td>\n",
              "      <td>1440.000000</td>\n",
              "    </tr>\n",
              "    <tr>\n",
              "      <th>lightlyactiveminutes</th>\n",
              "      <td>355844.0</td>\n",
              "      <td>203.326781</td>\n",
              "      <td>97.808326</td>\n",
              "      <td>0.000000</td>\n",
              "      <td>151.000000</td>\n",
              "      <td>205.000000</td>\n",
              "      <td>261.000000</td>\n",
              "      <td>937.000000</td>\n",
              "    </tr>\n",
              "    <tr>\n",
              "      <th>fairlyactiveminutes</th>\n",
              "      <td>357823.0</td>\n",
              "      <td>25.326321</td>\n",
              "      <td>30.709126</td>\n",
              "      <td>0.000000</td>\n",
              "      <td>4.000000</td>\n",
              "      <td>16.000000</td>\n",
              "      <td>35.000000</td>\n",
              "      <td>506.000000</td>\n",
              "    </tr>\n",
              "    <tr>\n",
              "      <th>veryactiveminutes</th>\n",
              "      <td>355844.0</td>\n",
              "      <td>31.179885</td>\n",
              "      <td>36.190696</td>\n",
              "      <td>0.000000</td>\n",
              "      <td>2.000000</td>\n",
              "      <td>20.000000</td>\n",
              "      <td>47.000000</td>\n",
              "      <td>650.000000</td>\n",
              "    </tr>\n",
              "    <tr>\n",
              "      <th>lowrangemins</th>\n",
              "      <td>357827.0</td>\n",
              "      <td>1100.332739</td>\n",
              "      <td>314.921616</td>\n",
              "      <td>0.000000</td>\n",
              "      <td>1004.000000</td>\n",
              "      <td>1219.000000</td>\n",
              "      <td>1315.000000</td>\n",
              "      <td>1440.000000</td>\n",
              "    </tr>\n",
              "    <tr>\n",
              "      <th>fatburnmins</th>\n",
              "      <td>357827.0</td>\n",
              "      <td>113.356653</td>\n",
              "      <td>103.457654</td>\n",
              "      <td>0.000000</td>\n",
              "      <td>39.000000</td>\n",
              "      <td>86.000000</td>\n",
              "      <td>156.000000</td>\n",
              "      <td>1344.000000</td>\n",
              "    </tr>\n",
              "    <tr>\n",
              "      <th>cardiomins</th>\n",
              "      <td>357827.0</td>\n",
              "      <td>4.134316</td>\n",
              "      <td>9.883374</td>\n",
              "      <td>0.000000</td>\n",
              "      <td>0.000000</td>\n",
              "      <td>0.000000</td>\n",
              "      <td>3.000000</td>\n",
              "      <td>343.000000</td>\n",
              "    </tr>\n",
              "    <tr>\n",
              "      <th>peakmins</th>\n",
              "      <td>357827.0</td>\n",
              "      <td>0.953796</td>\n",
              "      <td>4.534229</td>\n",
              "      <td>0.000000</td>\n",
              "      <td>0.000000</td>\n",
              "      <td>0.000000</td>\n",
              "      <td>0.000000</td>\n",
              "      <td>428.000000</td>\n",
              "    </tr>\n",
              "    <tr>\n",
              "      <th>lowrangecal</th>\n",
              "      <td>357827.0</td>\n",
              "      <td>1698.248551</td>\n",
              "      <td>633.774136</td>\n",
              "      <td>0.000000</td>\n",
              "      <td>1328.779700</td>\n",
              "      <td>1709.270400</td>\n",
              "      <td>2117.576800</td>\n",
              "      <td>5644.347200</td>\n",
              "    </tr>\n",
              "    <tr>\n",
              "      <th>fatburncal</th>\n",
              "      <td>357827.0</td>\n",
              "      <td>557.377978</td>\n",
              "      <td>511.034060</td>\n",
              "      <td>0.000000</td>\n",
              "      <td>185.058885</td>\n",
              "      <td>432.766390</td>\n",
              "      <td>776.951845</td>\n",
              "      <td>8111.299800</td>\n",
              "    </tr>\n",
              "    <tr>\n",
              "      <th>cardiocal</th>\n",
              "      <td>357827.0</td>\n",
              "      <td>38.888236</td>\n",
              "      <td>99.952610</td>\n",
              "      <td>0.000000</td>\n",
              "      <td>0.000000</td>\n",
              "      <td>0.000000</td>\n",
              "      <td>24.386604</td>\n",
              "      <td>4543.892100</td>\n",
              "    </tr>\n",
              "    <tr>\n",
              "      <th>peakcal</th>\n",
              "      <td>357827.0</td>\n",
              "      <td>10.776925</td>\n",
              "      <td>54.906745</td>\n",
              "      <td>0.000000</td>\n",
              "      <td>0.000000</td>\n",
              "      <td>0.000000</td>\n",
              "      <td>0.000000</td>\n",
              "      <td>4822.670900</td>\n",
              "    </tr>\n",
              "  </tbody>\n",
              "</table>\n",
              "</div>"
            ],
            "text/plain": [
              "                         count          mean           std           min  \\\n",
              "egoid                 357827.0  56376.037180  25759.271748  10237.000000   \n",
              "complypercent         357827.0     85.228499     22.456762      1.000000   \n",
              "meanrate              357827.0     74.001024      9.594119     40.174862   \n",
              "sdrate                357826.0     15.430787      4.220816      0.000000   \n",
              "steps                 356751.0  11051.223360   5873.476411      4.000000   \n",
              "floors                356927.0     17.236592     19.416539      0.000000   \n",
              "sedentaryminutes      355844.0    798.992190    265.477736      0.000000   \n",
              "lightlyactiveminutes  355844.0    203.326781     97.808326      0.000000   \n",
              "fairlyactiveminutes   357823.0     25.326321     30.709126      0.000000   \n",
              "veryactiveminutes     355844.0     31.179885     36.190696      0.000000   \n",
              "lowrangemins          357827.0   1100.332739    314.921616      0.000000   \n",
              "fatburnmins           357827.0    113.356653    103.457654      0.000000   \n",
              "cardiomins            357827.0      4.134316      9.883374      0.000000   \n",
              "peakmins              357827.0      0.953796      4.534229      0.000000   \n",
              "lowrangecal           357827.0   1698.248551    633.774136      0.000000   \n",
              "fatburncal            357827.0    557.377978    511.034060      0.000000   \n",
              "cardiocal             357827.0     38.888236     99.952610      0.000000   \n",
              "peakcal               357827.0     10.776925     54.906745      0.000000   \n",
              "\n",
              "                               25%           50%           75%           max  \n",
              "egoid                 33740.000000  56543.000000  79167.000000  99978.000000  \n",
              "complypercent            83.000000     96.000000     98.000000    100.000000  \n",
              "meanrate                 67.280514     73.469315     80.047359    190.721850  \n",
              "sdrate                   12.597967     15.047787     17.926842     66.399506  \n",
              "steps                  6948.000000  10592.000000  14458.000000  87677.000000  \n",
              "floors                    7.000000     13.000000     21.000000    670.000000  \n",
              "sedentaryminutes        631.000000    728.000000    871.000000   1440.000000  \n",
              "lightlyactiveminutes    151.000000    205.000000    261.000000    937.000000  \n",
              "fairlyactiveminutes       4.000000     16.000000     35.000000    506.000000  \n",
              "veryactiveminutes         2.000000     20.000000     47.000000    650.000000  \n",
              "lowrangemins           1004.000000   1219.000000   1315.000000   1440.000000  \n",
              "fatburnmins              39.000000     86.000000    156.000000   1344.000000  \n",
              "cardiomins                0.000000      0.000000      3.000000    343.000000  \n",
              "peakmins                  0.000000      0.000000      0.000000    428.000000  \n",
              "lowrangecal            1328.779700   1709.270400   2117.576800   5644.347200  \n",
              "fatburncal              185.058885    432.766390    776.951845   8111.299800  \n",
              "cardiocal                 0.000000      0.000000     24.386604   4543.892100  \n",
              "peakcal                   0.000000      0.000000      0.000000   4822.670900  "
            ]
          },
          "metadata": {
            "tags": []
          },
          "execution_count": 6
        }
      ]
    },
    {
      "cell_type": "markdown",
      "metadata": {
        "id": "jLcSEzI2m6sU"
      },
      "source": [
        "Check if any columns have null values, if they do then replace it with mean or median."
      ]
    },
    {
      "cell_type": "code",
      "metadata": {
        "id": "IPngGw1JDj06",
        "colab": {
          "base_uri": "https://localhost:8080/"
        },
        "outputId": "95f68846-1f4b-4c2b-c354-96947fc3ac53"
      },
      "source": [
        "fitbit_df.isna().sum()"
      ],
      "execution_count": 7,
      "outputs": [
        {
          "output_type": "execute_result",
          "data": {
            "text/plain": [
              "egoid                      0\n",
              "datadate                   0\n",
              "complypercent              0\n",
              "meanrate                   0\n",
              "sdrate                     1\n",
              "steps                   1076\n",
              "floors                   900\n",
              "sedentaryminutes        1983\n",
              "lightlyactiveminutes    1983\n",
              "fairlyactiveminutes        4\n",
              "veryactiveminutes       1983\n",
              "lowrangemins               0\n",
              "fatburnmins                0\n",
              "cardiomins                 0\n",
              "peakmins                   0\n",
              "lowrangecal                0\n",
              "fatburncal                 0\n",
              "cardiocal                  0\n",
              "peakcal                    0\n",
              "dtype: int64"
            ]
          },
          "metadata": {
            "tags": []
          },
          "execution_count": 7
        }
      ]
    },
    {
      "cell_type": "code",
      "metadata": {
        "colab": {
          "base_uri": "https://localhost:8080/"
        },
        "id": "TbkKCv7YMxbd",
        "outputId": "c0bcacc0-a16a-4fd9-fe4c-9f700e3e6234"
      },
      "source": [
        "355844/357827"
      ],
      "execution_count": 8,
      "outputs": [
        {
          "output_type": "execute_result",
          "data": {
            "text/plain": [
              "0.9944582158417336"
            ]
          },
          "metadata": {
            "tags": []
          },
          "execution_count": 8
        }
      ]
    },
    {
      "cell_type": "code",
      "metadata": {
        "id": "gLn6Pva1Do_S"
      },
      "source": [
        "fitbit_df['sdrate'].fillna(fitbit_df['sdrate'].mean(skipna=True), inplace=True)\n",
        "fitbit_df['steps'].fillna(fitbit_df['steps'].mean(skipna=True), inplace=True)\n",
        "fitbit_df['floors'].fillna(fitbit_df['floors'].mean(skipna=True), inplace=True)\n",
        "fitbit_df['sedentaryminutes'].fillna(fitbit_df['sedentaryminutes'].mean(skipna=True), inplace=True)\n",
        "fitbit_df['lightlyactiveminutes'].fillna(fitbit_df['lightlyactiveminutes'].mean(skipna=True), inplace=True)\n",
        "fitbit_df['fairlyactiveminutes'].fillna(fitbit_df['fairlyactiveminutes'].mean(skipna=True), inplace=True)\n",
        "fitbit_df['veryactiveminutes'].fillna(fitbit_df['veryactiveminutes'].mean(skipna=True), inplace=True)\n"
      ],
      "execution_count": 21,
      "outputs": []
    },
    {
      "cell_type": "code",
      "metadata": {
        "id": "0AlkyBcUEz-u",
        "colab": {
          "base_uri": "https://localhost:8080/"
        },
        "outputId": "e45b93b0-de76-433e-c99b-dd2285e6352c"
      },
      "source": [
        "fitbit_df.isna().sum()"
      ],
      "execution_count": 9,
      "outputs": [
        {
          "output_type": "execute_result",
          "data": {
            "text/plain": [
              "egoid                   0\n",
              "datadate                0\n",
              "complypercent           0\n",
              "meanrate                0\n",
              "sdrate                  0\n",
              "steps                   0\n",
              "floors                  0\n",
              "sedentaryminutes        0\n",
              "lightlyactiveminutes    0\n",
              "fairlyactiveminutes     0\n",
              "veryactiveminutes       0\n",
              "lowrangemins            0\n",
              "fatburnmins             0\n",
              "cardiomins              0\n",
              "peakmins                0\n",
              "lowrangecal             0\n",
              "fatburncal              0\n",
              "cardiocal               0\n",
              "peakcal                 0\n",
              "dtype: int64"
            ]
          },
          "metadata": {
            "tags": []
          },
          "execution_count": 9
        }
      ]
    },
    {
      "cell_type": "code",
      "metadata": {
        "id": "kp69Vw1sE3XH",
        "colab": {
          "base_uri": "https://localhost:8080/",
          "height": 607
        },
        "outputId": "542baf30-4203-4a15-9acf-f2ccd4805c6d"
      },
      "source": [
        "fitbit_df.describe().transpose()"
      ],
      "execution_count": 10,
      "outputs": [
        {
          "output_type": "execute_result",
          "data": {
            "text/html": [
              "<div>\n",
              "<style scoped>\n",
              "    .dataframe tbody tr th:only-of-type {\n",
              "        vertical-align: middle;\n",
              "    }\n",
              "\n",
              "    .dataframe tbody tr th {\n",
              "        vertical-align: top;\n",
              "    }\n",
              "\n",
              "    .dataframe thead th {\n",
              "        text-align: right;\n",
              "    }\n",
              "</style>\n",
              "<table border=\"1\" class=\"dataframe\">\n",
              "  <thead>\n",
              "    <tr style=\"text-align: right;\">\n",
              "      <th></th>\n",
              "      <th>count</th>\n",
              "      <th>mean</th>\n",
              "      <th>std</th>\n",
              "      <th>min</th>\n",
              "      <th>25%</th>\n",
              "      <th>50%</th>\n",
              "      <th>75%</th>\n",
              "      <th>max</th>\n",
              "    </tr>\n",
              "  </thead>\n",
              "  <tbody>\n",
              "    <tr>\n",
              "      <th>egoid</th>\n",
              "      <td>357827.0</td>\n",
              "      <td>56376.037180</td>\n",
              "      <td>25759.271748</td>\n",
              "      <td>10237.000000</td>\n",
              "      <td>33740.000000</td>\n",
              "      <td>56543.000000</td>\n",
              "      <td>79167.000000</td>\n",
              "      <td>99978.000000</td>\n",
              "    </tr>\n",
              "    <tr>\n",
              "      <th>complypercent</th>\n",
              "      <td>357827.0</td>\n",
              "      <td>85.228499</td>\n",
              "      <td>22.456762</td>\n",
              "      <td>1.000000</td>\n",
              "      <td>83.000000</td>\n",
              "      <td>96.000000</td>\n",
              "      <td>98.000000</td>\n",
              "      <td>100.000000</td>\n",
              "    </tr>\n",
              "    <tr>\n",
              "      <th>meanrate</th>\n",
              "      <td>357827.0</td>\n",
              "      <td>74.001024</td>\n",
              "      <td>9.594119</td>\n",
              "      <td>40.174862</td>\n",
              "      <td>67.280514</td>\n",
              "      <td>73.469315</td>\n",
              "      <td>80.047359</td>\n",
              "      <td>190.721850</td>\n",
              "    </tr>\n",
              "    <tr>\n",
              "      <th>sdrate</th>\n",
              "      <td>357827.0</td>\n",
              "      <td>15.430787</td>\n",
              "      <td>4.220810</td>\n",
              "      <td>0.000000</td>\n",
              "      <td>12.597975</td>\n",
              "      <td>15.047865</td>\n",
              "      <td>17.926813</td>\n",
              "      <td>66.399506</td>\n",
              "    </tr>\n",
              "    <tr>\n",
              "      <th>steps</th>\n",
              "      <td>357827.0</td>\n",
              "      <td>11051.223360</td>\n",
              "      <td>5864.638849</td>\n",
              "      <td>4.000000</td>\n",
              "      <td>6961.000000</td>\n",
              "      <td>10612.000000</td>\n",
              "      <td>14443.000000</td>\n",
              "      <td>87677.000000</td>\n",
              "    </tr>\n",
              "    <tr>\n",
              "      <th>floors</th>\n",
              "      <td>357827.0</td>\n",
              "      <td>17.236592</td>\n",
              "      <td>19.392106</td>\n",
              "      <td>0.000000</td>\n",
              "      <td>7.000000</td>\n",
              "      <td>13.000000</td>\n",
              "      <td>21.000000</td>\n",
              "      <td>670.000000</td>\n",
              "    </tr>\n",
              "    <tr>\n",
              "      <th>sedentaryminutes</th>\n",
              "      <td>357827.0</td>\n",
              "      <td>798.992190</td>\n",
              "      <td>264.741102</td>\n",
              "      <td>0.000000</td>\n",
              "      <td>632.000000</td>\n",
              "      <td>730.000000</td>\n",
              "      <td>869.000000</td>\n",
              "      <td>1440.000000</td>\n",
              "    </tr>\n",
              "    <tr>\n",
              "      <th>lightlyactiveminutes</th>\n",
              "      <td>357827.0</td>\n",
              "      <td>203.326781</td>\n",
              "      <td>97.536932</td>\n",
              "      <td>0.000000</td>\n",
              "      <td>151.000000</td>\n",
              "      <td>205.000000</td>\n",
              "      <td>261.000000</td>\n",
              "      <td>937.000000</td>\n",
              "    </tr>\n",
              "    <tr>\n",
              "      <th>fairlyactiveminutes</th>\n",
              "      <td>357827.0</td>\n",
              "      <td>25.326321</td>\n",
              "      <td>30.708954</td>\n",
              "      <td>0.000000</td>\n",
              "      <td>4.000000</td>\n",
              "      <td>16.000000</td>\n",
              "      <td>35.000000</td>\n",
              "      <td>506.000000</td>\n",
              "    </tr>\n",
              "    <tr>\n",
              "      <th>veryactiveminutes</th>\n",
              "      <td>357827.0</td>\n",
              "      <td>31.179885</td>\n",
              "      <td>36.090275</td>\n",
              "      <td>0.000000</td>\n",
              "      <td>2.000000</td>\n",
              "      <td>21.000000</td>\n",
              "      <td>47.000000</td>\n",
              "      <td>650.000000</td>\n",
              "    </tr>\n",
              "    <tr>\n",
              "      <th>lowrangemins</th>\n",
              "      <td>357827.0</td>\n",
              "      <td>1100.332739</td>\n",
              "      <td>314.921616</td>\n",
              "      <td>0.000000</td>\n",
              "      <td>1004.000000</td>\n",
              "      <td>1219.000000</td>\n",
              "      <td>1315.000000</td>\n",
              "      <td>1440.000000</td>\n",
              "    </tr>\n",
              "    <tr>\n",
              "      <th>fatburnmins</th>\n",
              "      <td>357827.0</td>\n",
              "      <td>113.356653</td>\n",
              "      <td>103.457654</td>\n",
              "      <td>0.000000</td>\n",
              "      <td>39.000000</td>\n",
              "      <td>86.000000</td>\n",
              "      <td>156.000000</td>\n",
              "      <td>1344.000000</td>\n",
              "    </tr>\n",
              "    <tr>\n",
              "      <th>cardiomins</th>\n",
              "      <td>357827.0</td>\n",
              "      <td>4.134316</td>\n",
              "      <td>9.883374</td>\n",
              "      <td>0.000000</td>\n",
              "      <td>0.000000</td>\n",
              "      <td>0.000000</td>\n",
              "      <td>3.000000</td>\n",
              "      <td>343.000000</td>\n",
              "    </tr>\n",
              "    <tr>\n",
              "      <th>peakmins</th>\n",
              "      <td>357827.0</td>\n",
              "      <td>0.953796</td>\n",
              "      <td>4.534229</td>\n",
              "      <td>0.000000</td>\n",
              "      <td>0.000000</td>\n",
              "      <td>0.000000</td>\n",
              "      <td>0.000000</td>\n",
              "      <td>428.000000</td>\n",
              "    </tr>\n",
              "    <tr>\n",
              "      <th>lowrangecal</th>\n",
              "      <td>357827.0</td>\n",
              "      <td>1698.248551</td>\n",
              "      <td>633.774136</td>\n",
              "      <td>0.000000</td>\n",
              "      <td>1328.779700</td>\n",
              "      <td>1709.270400</td>\n",
              "      <td>2117.576800</td>\n",
              "      <td>5644.347200</td>\n",
              "    </tr>\n",
              "    <tr>\n",
              "      <th>fatburncal</th>\n",
              "      <td>357827.0</td>\n",
              "      <td>557.377978</td>\n",
              "      <td>511.034060</td>\n",
              "      <td>0.000000</td>\n",
              "      <td>185.058885</td>\n",
              "      <td>432.766390</td>\n",
              "      <td>776.951845</td>\n",
              "      <td>8111.299800</td>\n",
              "    </tr>\n",
              "    <tr>\n",
              "      <th>cardiocal</th>\n",
              "      <td>357827.0</td>\n",
              "      <td>38.888236</td>\n",
              "      <td>99.952610</td>\n",
              "      <td>0.000000</td>\n",
              "      <td>0.000000</td>\n",
              "      <td>0.000000</td>\n",
              "      <td>24.386604</td>\n",
              "      <td>4543.892100</td>\n",
              "    </tr>\n",
              "    <tr>\n",
              "      <th>peakcal</th>\n",
              "      <td>357827.0</td>\n",
              "      <td>10.776925</td>\n",
              "      <td>54.906745</td>\n",
              "      <td>0.000000</td>\n",
              "      <td>0.000000</td>\n",
              "      <td>0.000000</td>\n",
              "      <td>0.000000</td>\n",
              "      <td>4822.670900</td>\n",
              "    </tr>\n",
              "  </tbody>\n",
              "</table>\n",
              "</div>"
            ],
            "text/plain": [
              "                         count          mean           std           min  \\\n",
              "egoid                 357827.0  56376.037180  25759.271748  10237.000000   \n",
              "complypercent         357827.0     85.228499     22.456762      1.000000   \n",
              "meanrate              357827.0     74.001024      9.594119     40.174862   \n",
              "sdrate                357827.0     15.430787      4.220810      0.000000   \n",
              "steps                 357827.0  11051.223360   5864.638849      4.000000   \n",
              "floors                357827.0     17.236592     19.392106      0.000000   \n",
              "sedentaryminutes      357827.0    798.992190    264.741102      0.000000   \n",
              "lightlyactiveminutes  357827.0    203.326781     97.536932      0.000000   \n",
              "fairlyactiveminutes   357827.0     25.326321     30.708954      0.000000   \n",
              "veryactiveminutes     357827.0     31.179885     36.090275      0.000000   \n",
              "lowrangemins          357827.0   1100.332739    314.921616      0.000000   \n",
              "fatburnmins           357827.0    113.356653    103.457654      0.000000   \n",
              "cardiomins            357827.0      4.134316      9.883374      0.000000   \n",
              "peakmins              357827.0      0.953796      4.534229      0.000000   \n",
              "lowrangecal           357827.0   1698.248551    633.774136      0.000000   \n",
              "fatburncal            357827.0    557.377978    511.034060      0.000000   \n",
              "cardiocal             357827.0     38.888236     99.952610      0.000000   \n",
              "peakcal               357827.0     10.776925     54.906745      0.000000   \n",
              "\n",
              "                               25%           50%           75%           max  \n",
              "egoid                 33740.000000  56543.000000  79167.000000  99978.000000  \n",
              "complypercent            83.000000     96.000000     98.000000    100.000000  \n",
              "meanrate                 67.280514     73.469315     80.047359    190.721850  \n",
              "sdrate                   12.597975     15.047865     17.926813     66.399506  \n",
              "steps                  6961.000000  10612.000000  14443.000000  87677.000000  \n",
              "floors                    7.000000     13.000000     21.000000    670.000000  \n",
              "sedentaryminutes        632.000000    730.000000    869.000000   1440.000000  \n",
              "lightlyactiveminutes    151.000000    205.000000    261.000000    937.000000  \n",
              "fairlyactiveminutes       4.000000     16.000000     35.000000    506.000000  \n",
              "veryactiveminutes         2.000000     21.000000     47.000000    650.000000  \n",
              "lowrangemins           1004.000000   1219.000000   1315.000000   1440.000000  \n",
              "fatburnmins              39.000000     86.000000    156.000000   1344.000000  \n",
              "cardiomins                0.000000      0.000000      3.000000    343.000000  \n",
              "peakmins                  0.000000      0.000000      0.000000    428.000000  \n",
              "lowrangecal            1328.779700   1709.270400   2117.576800   5644.347200  \n",
              "fatburncal              185.058885    432.766390    776.951845   8111.299800  \n",
              "cardiocal                 0.000000      0.000000     24.386604   4543.892100  \n",
              "peakcal                   0.000000      0.000000      0.000000   4822.670900  "
            ]
          },
          "metadata": {
            "tags": []
          },
          "execution_count": 10
        }
      ]
    },
    {
      "cell_type": "code",
      "metadata": {
        "colab": {
          "base_uri": "https://localhost:8080/",
          "height": 621
        },
        "id": "J4rTDMQXUV2z",
        "outputId": "09b79465-a922-47c3-bb69-cb39f5873bf7"
      },
      "source": [
        "plt.figure(figsize=(20,10))\n",
        "sns.heatmap(fitbit_df.corr(),annot=True,linewidths=.5,center=0,cbar=True,cmap=\"YlGnBu\")\n",
        "plt.show()"
      ],
      "execution_count": 11,
      "outputs": [
        {
          "output_type": "display_data",
          "data": {
            "image/png": "[encoded data removed]",
            "text/plain": [
              "<Figure size 1440x720 with 2 Axes>"
            ]
          },
          "metadata": {
            "tags": [],
            "needs_background": "light"
          }
        }
      ]
    },
    {
      "cell_type": "markdown",
      "metadata": {
        "id": "2QfB87synCRu"
      },
      "source": [
        "There a total of 623 unique ids. This dataset was taken from, collected over a period of 1396 different dates"
      ]
    },
    {
      "cell_type": "code",
      "metadata": {
        "id": "4ZsTd0okFmKM"
      },
      "source": [
        "for col in fitbit_df:\n",
        "    if col == \"egoid\":\n",
        "      print(len(fitbit_df[col].unique()))"
      ],
      "execution_count": null,
      "outputs": []
    },
    {
      "cell_type": "markdown",
      "metadata": {
        "id": "UrfLDDnSuUWi"
      },
      "source": [
        "Remove any columns which acts as keys and skew data. and any columns that may not affect clustering."
      ]
    },
    {
      "cell_type": "code",
      "metadata": {
        "id": "lCJulsDxG00s"
      },
      "source": [
        "fitbit_df = fitbit_df.drop(['egoid','datadate','complypercent','sdrate'],axis=1)"
      ],
      "execution_count": 22,
      "outputs": []
    },
    {
      "cell_type": "code",
      "metadata": {
        "id": "63bnssQnNKyf"
      },
      "source": [
        "#egoid is the individual participant id. \n",
        "#datadate is for each particular row as to when the data was collected\n",
        "#comply percent is how long within the day the particpant wore the watch for.\n",
        "#not completely sure as to what sd-rate is will have to get in touch with dataset builders."
      ],
      "execution_count": null,
      "outputs": []
    },
    {
      "cell_type": "code",
      "metadata": {
        "colab": {
          "base_uri": "https://localhost:8080/",
          "height": 295
        },
        "id": "-3SwC0isHLkP",
        "outputId": "9c5def2c-0605-4e9b-a46e-db6ba4cb28b5"
      },
      "source": [
        "from sklearn.cluster import KMeans  \n",
        "\n",
        "wcss_list= []  #Initializing the list for the values of WCSS  (sum of squares of distances) from centroid\n",
        "  \n",
        "\n",
        "for i in range(1, 11):  \n",
        "    kmeans = KMeans(n_clusters=i, init='k-means++', random_state= 42)  \n",
        "    kmeans.fit(fitbit_df)  \n",
        "    wcss_list.append(kmeans.inertia_)  \n",
        "plt.plot(range(1, 11), wcss_list)  \n",
        "plt.title('The Elobw Method Graph')  \n",
        "plt.xlabel('Number of clusters(k)')  \n",
        "plt.ylabel('wcss_list')  \n",
        "plt.show()\n",
        "\n",
        "#from this piece of code we just get the optimal amount of clusters.\n",
        "#clustering helps us tie the very similar data point \"strongly\"\n",
        "#this helps us identify similar datapoint quickly and differentiate between data more efficiently.\n",
        "#collection of objects with similarity and dissimilarity.\n",
        "#the graph starts levelling off at 4 clusters\n",
        "\n",
        "# wcss helps us identify the distance of each data point from each other from within the the group.\n",
        "# this is done so that the closer the datapoints to each other\n",
        "# the more easier it is differentiate a random incoming data.\n",
        "\n",
        "# so the clusters can identify their own efficiently, but can't tell which other clusters they belong to.\n",
        "# A big \"surely ain't one of us\" game."
      ],
      "execution_count": 23,
      "outputs": [
        {
          "output_type": "display_data",
          "data": {
            "image/png": "[encoded data removed]",
            "text/plain": [
              "<Figure size 432x288 with 1 Axes>"
            ]
          },
          "metadata": {
            "tags": [],
            "needs_background": "light"
          }
        }
      ]
    },
    {
      "cell_type": "markdown",
      "metadata": {
        "id": "NWutbZ2VPjTL"
      },
      "source": [
        "https://www.cloudfactory.com/data-labeling-guide\n",
        "\n",
        "ML operationalization 2.0%\n",
        "ML Model tuning 5.0%\n",
        "ML model training 10.0%\n",
        "ML algorithm dev 3.0%\n",
        "\n",
        "Data Identification 5.0%\n",
        "Data Aggregation 10.0%\n",
        "Data cleansing 25.0%\n",
        "Data Augmentation 15.0%\n",
        "Data labeling 25.0%."
      ]
    },
    {
      "cell_type": "markdown",
      "metadata": {
        "id": "lxHXl5F8P39f"
      },
      "source": [
        ""
      ]
    },
    {
      "cell_type": "code",
      "metadata": {
        "colab": {
          "base_uri": "https://localhost:8080/"
        },
        "id": "8E0_PCwaiXMS",
        "outputId": "3fbfe3c6-3e39-4cea-8909-2ddb80524c8d"
      },
      "source": [
        "kmeans = KMeans(n_clusters=4, init='k-means++', random_state= 42)  \n",
        "kmeans.fit(fitbit_df)  "
      ],
      "execution_count": 25,
      "outputs": [
        {
          "output_type": "execute_result",
          "data": {
            "text/plain": [
              "KMeans(algorithm='auto', copy_x=True, init='k-means++', max_iter=300,\n",
              "       n_clusters=4, n_init=10, n_jobs=None, precompute_distances='auto',\n",
              "       random_state=42, tol=0.0001, verbose=0)"
            ]
          },
          "metadata": {
            "tags": []
          },
          "execution_count": 25
        }
      ]
    },
    {
      "cell_type": "code",
      "metadata": {
        "id": "dDWZk1olXkmL"
      },
      "source": [
        "y_predict = kmeans.predict(fitbit_df)"
      ],
      "execution_count": 26,
      "outputs": []
    },
    {
      "cell_type": "code",
      "metadata": {
        "colab": {
          "base_uri": "https://localhost:8080/"
        },
        "id": "2d8CgqFYX_uN",
        "outputId": "1f9a2c88-6039-4d7d-8ac3-56e5ead550d5"
      },
      "source": [
        "from collections import Counter\n",
        "\n",
        "Counter(y_predict).keys() # equals to list(set(words))\n",
        "Counter(y_predict).values() # counts the elements' frequency"
      ],
      "execution_count": 34,
      "outputs": [
        {
          "output_type": "execute_result",
          "data": {
            "text/plain": [
              "dict_values([91413, 139625, 97479, 29310])"
            ]
          },
          "metadata": {
            "tags": []
          },
          "execution_count": 34
        }
      ]
    },
    {
      "cell_type": "code",
      "metadata": {
        "id": "l9bJlCoIHLeM"
      },
      "source": [
        "fitbit_df['health_status'] = pd.Series(y_predict, index=fitbit_df.index)"
      ],
      "execution_count": 17,
      "outputs": []
    },
    {
      "cell_type": "code",
      "metadata": {
        "colab": {
          "base_uri": "https://localhost:8080/"
        },
        "id": "S9-tUNpvKSpZ",
        "outputId": "d198b447-3e3a-48fc-aaee-1a96989837dc"
      },
      "source": [
        "fitbit_df.columns"
      ],
      "execution_count": 18,
      "outputs": [
        {
          "output_type": "execute_result",
          "data": {
            "text/plain": [
              "Index(['meanrate', 'steps', 'floors', 'sedentaryminutes',\n",
              "       'lightlyactiveminutes', 'fairlyactiveminutes', 'veryactiveminutes',\n",
              "       'lowrangemins', 'fatburnmins', 'cardiomins', 'peakmins', 'lowrangecal',\n",
              "       'fatburncal', 'cardiocal', 'peakcal', 'health_status'],\n",
              "      dtype='object')"
            ]
          },
          "metadata": {
            "tags": []
          },
          "execution_count": 18
        }
      ]
    },
    {
      "cell_type": "code",
      "metadata": {
        "colab": {
          "base_uri": "https://localhost:8080/",
          "height": 295
        },
        "id": "UX6S3ZiJHLYG",
        "outputId": "f3691b4d-a04f-42a3-e1ee-0cecb85b6ca5"
      },
      "source": [
        "\"\"\"\n",
        "Nc = range(1, 20)\n",
        "kmeans = [KMeans(n_clusters=i) for i in Nc]\n",
        "score = [kmeans[i].fit(fitbit_df).score(fitbit_df) for i in range(len(kmeans))]\n",
        "plt.plot(Nc,score)\n",
        "plt.xlabel('Number of Clusters')\n",
        "plt.ylabel('Score')\n",
        "plt.title('Elbow Curve')\n",
        "plt.show()\n",
        "\"\"\"\n",
        "# from this graph we see that the score rapidly improves at cluster 4.\n",
        "# so the magic number for this dataset is 4."
      ],
      "execution_count": null,
      "outputs": [
        {
          "output_type": "display_data",
          "data": {
            "image/png": "[encoded data removed]",
            "text/plain": [
              "<Figure size 432x288 with 1 Axes>"
            ]
          },
          "metadata": {
            "tags": [],
            "needs_background": "light"
          }
        }
      ]
    },
    {
      "cell_type": "code",
      "metadata": {
        "id": "1h9iGAUcVeWE",
        "colab": {
          "base_uri": "https://localhost:8080/",
          "height": 224
        },
        "outputId": "45adf8ca-106c-4c30-dab8-74601c04de4e"
      },
      "source": [
        "fitbit_df.head()"
      ],
      "execution_count": 19,
      "outputs": [
        {
          "output_type": "execute_result",
          "data": {
            "text/html": [
              "<div>\n",
              "<style scoped>\n",
              "    .dataframe tbody tr th:only-of-type {\n",
              "        vertical-align: middle;\n",
              "    }\n",
              "\n",
              "    .dataframe tbody tr th {\n",
              "        vertical-align: top;\n",
              "    }\n",
              "\n",
              "    .dataframe thead th {\n",
              "        text-align: right;\n",
              "    }\n",
              "</style>\n",
              "<table border=\"1\" class=\"dataframe\">\n",
              "  <thead>\n",
              "    <tr style=\"text-align: right;\">\n",
              "      <th></th>\n",
              "      <th>meanrate</th>\n",
              "      <th>steps</th>\n",
              "      <th>floors</th>\n",
              "      <th>sedentaryminutes</th>\n",
              "      <th>lightlyactiveminutes</th>\n",
              "      <th>fairlyactiveminutes</th>\n",
              "      <th>veryactiveminutes</th>\n",
              "      <th>lowrangemins</th>\n",
              "      <th>fatburnmins</th>\n",
              "      <th>cardiomins</th>\n",
              "      <th>peakmins</th>\n",
              "      <th>lowrangecal</th>\n",
              "      <th>fatburncal</th>\n",
              "      <th>cardiocal</th>\n",
              "      <th>peakcal</th>\n",
              "      <th>health_status</th>\n",
              "    </tr>\n",
              "  </thead>\n",
              "  <tbody>\n",
              "    <tr>\n",
              "      <th>0</th>\n",
              "      <td>86.669746</td>\n",
              "      <td>4034.0</td>\n",
              "      <td>1.0</td>\n",
              "      <td>1034.0</td>\n",
              "      <td>149.0</td>\n",
              "      <td>2.0</td>\n",
              "      <td>12.0</td>\n",
              "      <td>1211</td>\n",
              "      <td>75</td>\n",
              "      <td>9</td>\n",
              "      <td>4</td>\n",
              "      <td>1364.19900</td>\n",
              "      <td>159.79671</td>\n",
              "      <td>61.841969</td>\n",
              "      <td>35.46954</td>\n",
              "      <td>0</td>\n",
              "    </tr>\n",
              "    <tr>\n",
              "      <th>1</th>\n",
              "      <td>87.975342</td>\n",
              "      <td>3702.0</td>\n",
              "      <td>0.0</td>\n",
              "      <td>769.0</td>\n",
              "      <td>153.0</td>\n",
              "      <td>0.0</td>\n",
              "      <td>0.0</td>\n",
              "      <td>1273</td>\n",
              "      <td>103</td>\n",
              "      <td>3</td>\n",
              "      <td>0</td>\n",
              "      <td>1322.14650</td>\n",
              "      <td>262.28818</td>\n",
              "      <td>11.997700</td>\n",
              "      <td>0.00000</td>\n",
              "      <td>0</td>\n",
              "    </tr>\n",
              "    <tr>\n",
              "      <th>2</th>\n",
              "      <td>83.281448</td>\n",
              "      <td>3660.0</td>\n",
              "      <td>0.0</td>\n",
              "      <td>795.0</td>\n",
              "      <td>139.0</td>\n",
              "      <td>3.0</td>\n",
              "      <td>18.0</td>\n",
              "      <td>1267</td>\n",
              "      <td>109</td>\n",
              "      <td>15</td>\n",
              "      <td>16</td>\n",
              "      <td>1288.98170</td>\n",
              "      <td>232.89841</td>\n",
              "      <td>77.910057</td>\n",
              "      <td>127.26234</td>\n",
              "      <td>0</td>\n",
              "    </tr>\n",
              "    <tr>\n",
              "      <th>3</th>\n",
              "      <td>91.707787</td>\n",
              "      <td>6016.0</td>\n",
              "      <td>13.0</td>\n",
              "      <td>954.0</td>\n",
              "      <td>259.0</td>\n",
              "      <td>0.0</td>\n",
              "      <td>0.0</td>\n",
              "      <td>846</td>\n",
              "      <td>295</td>\n",
              "      <td>2</td>\n",
              "      <td>0</td>\n",
              "      <td>954.04791</td>\n",
              "      <td>629.57526</td>\n",
              "      <td>2.224320</td>\n",
              "      <td>0.00000</td>\n",
              "      <td>8</td>\n",
              "    </tr>\n",
              "    <tr>\n",
              "      <th>4</th>\n",
              "      <td>101.268140</td>\n",
              "      <td>9846.0</td>\n",
              "      <td>5.0</td>\n",
              "      <td>1078.0</td>\n",
              "      <td>282.0</td>\n",
              "      <td>24.0</td>\n",
              "      <td>8.0</td>\n",
              "      <td>628</td>\n",
              "      <td>502</td>\n",
              "      <td>0</td>\n",
              "      <td>0</td>\n",
              "      <td>702.88513</td>\n",
              "      <td>1080.83410</td>\n",
              "      <td>0.000000</td>\n",
              "      <td>0.00000</td>\n",
              "      <td>6</td>\n",
              "    </tr>\n",
              "  </tbody>\n",
              "</table>\n",
              "</div>"
            ],
            "text/plain": [
              "     meanrate   steps  floors  sedentaryminutes  lightlyactiveminutes  \\\n",
              "0   86.669746  4034.0     1.0            1034.0                 149.0   \n",
              "1   87.975342  3702.0     0.0             769.0                 153.0   \n",
              "2   83.281448  3660.0     0.0             795.0                 139.0   \n",
              "3   91.707787  6016.0    13.0             954.0                 259.0   \n",
              "4  101.268140  9846.0     5.0            1078.0                 282.0   \n",
              "\n",
              "   fairlyactiveminutes  veryactiveminutes  lowrangemins  fatburnmins  \\\n",
              "0                  2.0               12.0          1211           75   \n",
              "1                  0.0                0.0          1273          103   \n",
              "2                  3.0               18.0          1267          109   \n",
              "3                  0.0                0.0           846          295   \n",
              "4                 24.0                8.0           628          502   \n",
              "\n",
              "   cardiomins  peakmins  lowrangecal  fatburncal  cardiocal    peakcal  \\\n",
              "0           9         4   1364.19900   159.79671  61.841969   35.46954   \n",
              "1           3         0   1322.14650   262.28818  11.997700    0.00000   \n",
              "2          15        16   1288.98170   232.89841  77.910057  127.26234   \n",
              "3           2         0    954.04791   629.57526   2.224320    0.00000   \n",
              "4           0         0    702.88513  1080.83410   0.000000    0.00000   \n",
              "\n",
              "   health_status  \n",
              "0              0  \n",
              "1              0  \n",
              "2              0  \n",
              "3              8  \n",
              "4              6  "
            ]
          },
          "metadata": {
            "tags": []
          },
          "execution_count": 19
        }
      ]
    },
    {
      "cell_type": "code",
      "metadata": {
        "id": "PHQQ74RjRxg_"
      },
      "source": [
        ""
      ],
      "execution_count": null,
      "outputs": []
    },
    {
      "cell_type": "code",
      "metadata": {
        "id": "SG3NwkcWR7p1"
      },
      "source": [
        "centroids = kmeans.cluster_centers_\n",
        "cen_x = [i[0] for i in centroids] \n",
        "cen_y = [i[1] for i in centroids]\n",
        "## add to df\n",
        "fitbit_df['meanrate'] = fitbit_df.health_status.map({0:cen_x[0], 1:cen_x[1], 2:cen_x[2],3:cen_x[3]})\n",
        "fitbit_df['veryactiveminutes'] = fitbit_df.health_status.map({0:cen_y[0], 1:cen_y[1], 2:cen_y[2],3:cen_y[3]})\n",
        "# define and map colors\n",
        "colors = ['#DF2020', '#81DF20', '#2095DF','#6A0DAD']\n",
        "fitbit_df['c'] = fitbit_df.health_status.map({0:colors[0], 1:colors[1], 2:colors[2],3:colors[3]})"
      ],
      "execution_count": 37,
      "outputs": []
    },
    {
      "cell_type": "code",
      "metadata": {
        "id": "ntAVpHU7R7kl"
      },
      "source": [
        ""
      ],
      "execution_count": null,
      "outputs": []
    },
    {
      "cell_type": "code",
      "metadata": {
        "id": "nUbIxQcuR7h_"
      },
      "source": [
        ""
      ],
      "execution_count": null,
      "outputs": []
    },
    {
      "cell_type": "code",
      "metadata": {
        "id": "D7qESrYOR7fP"
      },
      "source": [
        ""
      ],
      "execution_count": null,
      "outputs": []
    },
    {
      "cell_type": "code",
      "metadata": {
        "id": "QKMf-QhuRxd3"
      },
      "source": [
        ""
      ],
      "execution_count": null,
      "outputs": []
    },
    {
      "cell_type": "code",
      "metadata": {
        "id": "-VzVVXmhRxbK"
      },
      "source": [
        ""
      ],
      "execution_count": null,
      "outputs": []
    },
    {
      "cell_type": "code",
      "metadata": {
        "id": "nDm5RiIwRxSH"
      },
      "source": [
        ""
      ],
      "execution_count": null,
      "outputs": []
    },
    {
      "cell_type": "code",
      "metadata": {
        "id": "nnXlH_GtSMJJ"
      },
      "source": [
        "from sklearn.cluster import KMeans\n",
        "# standardizing the data\n",
        "from sklearn.preprocessing import StandardScaler\n",
        "scaler = StandardScaler()\n",
        "data_scaled = scaler.fit_transform(fitbit_df)\n",
        "\n",
        "# statistics of scaled data\n",
        "pd.DataFrame(data_scaled).describe()\n",
        "\n",
        "mat = fitbit_df.values\n",
        "# Using sklearn\n",
        "km = KMeans(n_jobs = -1, n_clusters = 5, init='k-means++')\n",
        "km.fit(mat)\n",
        "# Get cluster assignment labels\n",
        "labels = km.labels_\n",
        "# Format results as a DataFrame\n",
        "results = pd.DataFrame(data=labels, columns=['cluster']) "
      ],
      "execution_count": null,
      "outputs": []
    },
    {
      "cell_type": "code",
      "metadata": {
        "id": "o8FetSAHwy3M"
      },
      "source": [
        ""
      ],
      "execution_count": null,
      "outputs": []
    },
    {
      "cell_type": "code",
      "metadata": {
        "id": "rNcuUdOkR6vw"
      },
      "source": [
        ""
      ],
      "execution_count": null,
      "outputs": []
    },
    {
      "cell_type": "code",
      "metadata": {
        "colab": {
          "base_uri": "https://localhost:8080/"
        },
        "id": "ZFA8cNKUSr6x",
        "outputId": "21bc3d11-cb5a-478d-8ae5-25f23e967987"
      },
      "source": [
        "kmeans = KMeans(n_clusters=2, init='k-means++')\n",
        "\n",
        "# fitting the k means algorithm on scaled data\n",
        "kmeans.fit(data_scaled)"
      ],
      "execution_count": null,
      "outputs": [
        {
          "output_type": "execute_result",
          "data": {
            "text/plain": [
              "KMeans(algorithm='auto', copy_x=True, init='k-means++', max_iter=300,\n",
              "       n_clusters=2, n_init=10, n_jobs=None, precompute_distances='auto',\n",
              "       random_state=None, tol=0.0001, verbose=0)"
            ]
          },
          "metadata": {
            "tags": []
          },
          "execution_count": 37
        }
      ]
    },
    {
      "cell_type": "code",
      "metadata": {
        "colab": {
          "base_uri": "https://localhost:8080/"
        },
        "id": "scFR7lp1S4iS",
        "outputId": "bbc26ba2-6c5a-4365-c7c3-23368f0bf6bb"
      },
      "source": [
        "kmeans.inertia_"
      ],
      "execution_count": null,
      "outputs": [
        {
          "output_type": "execute_result",
          "data": {
            "text/plain": [
              "4358229.33886556"
            ]
          },
          "metadata": {
            "tags": []
          },
          "execution_count": 38
        }
      ]
    },
    {
      "cell_type": "code",
      "metadata": {
        "colab": {
          "base_uri": "https://localhost:8080/",
          "height": 416
        },
        "id": "EDoudf5hS5yi",
        "outputId": "29ce7e45-2cc7-45c1-97c9-b5fb71461bed"
      },
      "source": [
        "SSE = []\n",
        "for cluster in range(1,20):\n",
        "    kmeans = KMeans(n_jobs = -1, n_clusters = cluster, init='k-means++')\n",
        "    kmeans.fit(data_scaled)\n",
        "    SSE.append(kmeans.inertia_)\n",
        "\n",
        "# converting the results into a dataframe and plotting them\n",
        "frame = pd.DataFrame({'Cluster':range(1,20), 'SSE':SSE})\n",
        "plt.figure(figsize=(12,6))\n",
        "plt.plot(frame['Cluster'], frame['SSE'], marker='o')\n",
        "plt.xlabel('Number of clusters')\n",
        "plt.ylabel('Inertia')"
      ],
      "execution_count": null,
      "outputs": [
        {
          "output_type": "execute_result",
          "data": {
            "text/plain": [
              "Text(0, 0.5, 'Inertia')"
            ]
          },
          "metadata": {
            "tags": []
          },
          "execution_count": 39
        },
        {
          "output_type": "display_data",
          "data": {
            "image/png": "[encoded data removed]",
            "text/plain": [
              "<Figure size 864x432 with 1 Axes>"
            ]
          },
          "metadata": {
            "tags": [],
            "needs_background": "light"
          }
        }
      ]
    },
    {
      "cell_type": "code",
      "metadata": {
        "id": "j5zpwhuRfFvG"
      },
      "source": [
        "kmeans = KMeans(n_jobs = -1, n_clusters = 5, init='k-means++')\n",
        "kmeans.fit(data_scaled)\n",
        "pred = kmeans.predict(data_scaled)\n",
        "\n",
        "kmeans = KMeans(n_clusters=4).fit(df)\n",
        "centroids = kmeans.cluster_centers_\n",
        "print(centroids)\n",
        "\n",
        "plt.scatter(df['x'], df['y'], c= kmeans.labels_.astype(float), s=50, alpha=0.5)\n",
        "plt.scatter(centroids[:, 0], centroids[:, 1], c='red', s=50)\n",
        "plt.show()"
      ],
      "execution_count": null,
      "outputs": []
    },
    {
      "cell_type": "code",
      "metadata": {
        "colab": {
          "base_uri": "https://localhost:8080/"
        },
        "id": "541SdFb4fRIQ",
        "outputId": "3220f5f1-0e1a-44ae-a096-d3fc355a308b"
      },
      "source": [
        "frame = pd.DataFrame(data_scaled)\n",
        "frame['cluster'] = pred\n",
        "frame['cluster'].value_counts()"
      ],
      "execution_count": null,
      "outputs": [
        {
          "output_type": "execute_result",
          "data": {
            "text/plain": [
              "0    190802\n",
              "1     72457\n",
              "4     66088\n",
              "2     20944\n",
              "3      7536\n",
              "Name: cluster, dtype: int64"
            ]
          },
          "metadata": {
            "tags": []
          },
          "execution_count": 42
        }
      ]
    },
    {
      "cell_type": "code",
      "metadata": {
        "id": "9r-IFSNdgLlY"
      },
      "source": [
        "label = kmeans.fit_predict(fitbit_df)"
      ],
      "execution_count": null,
      "outputs": []
    },
    {
      "cell_type": "code",
      "metadata": {
        "colab": {
          "base_uri": "https://localhost:8080/"
        },
        "id": "Y-x72F8fgYM9",
        "outputId": "16570212-73fc-4e09-dd6d-4614b6d0fc45"
      },
      "source": [
        "print(label.size)"
      ],
      "execution_count": null,
      "outputs": [
        {
          "output_type": "stream",
          "text": [
            "357827\n"
          ],
          "name": "stdout"
        }
      ]
    }
  ]
}